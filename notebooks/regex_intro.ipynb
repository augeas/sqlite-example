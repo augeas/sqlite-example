{
 "cells": [
  {
   "cell_type": "markdown",
   "metadata": {},
   "source": [
    "# Introduction to Regular Expressions Practice Challenge"
   ]
  },
  {
   "cell_type": "markdown",
   "metadata": {},
   "source": [
    "## This Week's Aims\n",
    "Regular expressions are a very powerful technique for pattern matching. They'd have to be, because otherwise no-one would put up with them. They are notoriously cryptic, and sometimes described as \"write only\". Get a regex working, then briefly look away. There's every chance you won't still be able to explain how it works. However, they can be the best solution for some information extraction tasks, so we're just going to have to practice them.\n",
    "\n",
    "Regexes are hard enough, and there's plenty of Python to read in this notebook, so you only need to edit the regular expressions.\n",
    "\n",
    "### - USE the [Pythex](https://pythex.org/) online regex tester.\n",
    "### - READ the [standard library documentation](https://docs.python.org/3/howto/regex.html)."
   ]
  },
  {
   "cell_type": "markdown",
   "metadata": {},
   "source": [
    "![99 Problems](https://imgs.xkcd.com/comics/perl_problems.png)\n",
    "[XKCD](https://xkcd.com/208/)\n",
    "\n",
    "(Think matching UK post-codes would be easy? [Think Again.](https://stackoverflow.com/questions/164979/uk-postcode-regex-comprehensive) Don't even *think* about validating email addresses with a regex either, just check for an \"@\", and hope for the best. Don't [EVER](https://twitter.com/molotovbliss/status/845228393239056384) try and parse HTML with a regex.)"
   ]
  },
  {
   "cell_type": "code",
   "execution_count": null,
   "metadata": {
    "collapsed": false
   },
   "outputs": [],
   "source": [
    "import hashlib\n",
    "from unittest import TestCase, TestLoader, TextTestRunner\n",
    "    import re\n",
    "\n",
    "from bs4 import BeautifulSoup\n",
    "import requests"
   ]
  },
  {
   "cell_type": "markdown",
   "metadata": {},
   "source": [
    "# [Trans Media Watch](http://www.transmediawatch.org/)\n",
    "[Trans Media Watch](http://www.transmediawatch.org/) are a charity seeking to improve the portrayal of trans people and issues in the media. They have produced a [style-guide](http://www.transmediawatch.org/Documents/Media%20Style%20Guide.pdf), much of which can be implemented as regular expressions. Your job is to complete the dictionary below, adding regexes to capture various problematic terms. See the test-cases further down for specific details."
   ]
  },
  {
   "cell_type": "code",
   "execution_count": null,
   "metadata": {
    "collapsed": false
   },
   "outputs": [],
   "source": [
    "tmw_regex_rules = {\n",
    "    'pre-op': r'',\n",
    "    'post-op': r'',\n",
    "    'born': r'',\n",
    "    'become': r'',\n",
    "    'scare-quote': r''\n",
    "}"
   ]
  },
  {
   "cell_type": "code",
   "execution_count": null,
   "metadata": {
    "collapsed": true
   },
   "outputs": [],
   "source": [
    "class RegexRuleTester(TestCase):\n",
    "        \n",
    "    def testMatches(self):\n",
    "        self.assertEqual(re.findall(\n",
    "            tmw_regex_rules[self.__class__.key],self.__class__.test_input, **self.__class__.kwargs),\n",
    "            self.__class__.expected)\n",
    "        \n",
    "def hashlist(l):\n",
    "    return hashlib.sha224(bytes(' '.join(sorted(l)),'ascii')).hexdigest()\n",
    "        \n",
    "class HashedListTester(TestCase):\n",
    "    \n",
    "    def testList(self):\n",
    "        self.assertEqual(hashlist(self.__class__.f()),self.__class__.hsh)\n",
    "    \n",
    "def runTest(case):\n",
    "    suite = TestLoader().loadTestsFromModule(case())\n",
    "    TextTestRunner().run(suite)       "
   ]
  },
  {
   "cell_type": "markdown",
   "metadata": {},
   "source": [
    "### \"Pre-Op\" and \"Post-Op\"\n",
    "Have you asked the person next to you if they still have their appendix or tonsils? Of course not, it's none of your business, and it's irrelevant. Like many of the terms in the [style-guide](http://www.transmediawatch.org/Documents/Media%20Style%20Guide.pdf), the regex can simply be the inappropriate term. -The tests are set up to use case-insensitive regular expressions, so the first two examples are really easy."
   ]
  },
  {
   "cell_type": "code",
   "execution_count": null,
   "metadata": {
    "collapsed": false
   },
   "outputs": [],
   "source": [
    "class PreOpTest(RegexRuleTester):\n",
    "    key = 'pre-op'\n",
    "    test_input = 'Pre-Op pre-op'\n",
    "    expected = ['Pre-Op','pre-op']\n",
    "    kwargs = {'flags':re.IGNORECASE} \n",
    "    \n",
    "runTest(PreOpTest)"
   ]
  },
  {
   "cell_type": "code",
   "execution_count": null,
   "metadata": {
    "collapsed": false
   },
   "outputs": [],
   "source": [
    "class PostOpTest(RegexRuleTester):\n",
    "    key = 'post-op'\n",
    "    test_input = 'Post-Op post-op'\n",
    "    expected = ['Post-Op','post-op']\n",
    "    kwargs = {'flags':re.IGNORECASE} \n",
    "    \n",
    "runTest(PostOpTest)"
   ]
  },
  {
   "cell_type": "markdown",
   "metadata": {},
   "source": [
    "### \"born a man\" / \"born a woman\"\n",
    "People are, in fact, invariably born *infants*. Because \"woman\" is \"man\" with \"wo\" prepended, we can match this with  a single regex.\n",
    "\n",
    "Let's try and match \"spring\" and \"ring\":"
   ]
  },
  {
   "cell_type": "code",
   "execution_count": null,
   "metadata": {
    "collapsed": false
   },
   "outputs": [],
   "source": [
    "re.findall(r'(sp)?ring', \"In the Spring, I'll buy a ring\", flags=re.IGNORECASE)"
   ]
  },
  {
   "cell_type": "markdown",
   "metadata": {},
   "source": [
    "### Curses, it didn't work!\n",
    "We made the group \"sp\" optional, but we also need to make it [*non-capturing*](https://docs.python.org/3/howto/regex.html#non-capturing-and-named-groups), as ever, the [standard library documentation](https://docs.python.org/3/howto/regex.html#non-capturing-and-named-groups) is your friend. What a difference \"?:\" makes:"
   ]
  },
  {
   "cell_type": "code",
   "execution_count": null,
   "metadata": {
    "collapsed": false
   },
   "outputs": [],
   "source": [
    "re.findall(r'(?:sp)?ring', \"In the Spring, I'll buy a ring\", flags=re.IGNORECASE)"
   ]
  },
  {
   "cell_type": "code",
   "execution_count": null,
   "metadata": {
    "collapsed": false
   },
   "outputs": [],
   "source": [
    "class BornTest(RegexRuleTester):\n",
    "    key = 'born'\n",
    "    test_input = 'born a man Born A Woman'\n",
    "    expected = ['born a man','Born A Woman']\n",
    "    kwargs = {'flags':re.IGNORECASE} \n",
    "    \n",
    "runTest(BornTest)"
   ]
  },
  {
   "cell_type": "markdown",
   "metadata": {},
   "source": [
    "### \"become a woman\" / \"became a man\"\n",
    "Trans people might choose hormone treatment *because* of their gender identity, NOT in order to change it. We can use the same pattern to match \"man\"/\"woman\" as last time. Because \"become\" and \"became\" differ by one letter, it's a job for a character class:"
   ]
  },
  {
   "cell_type": "code",
   "execution_count": null,
   "metadata": {
    "collapsed": false
   },
   "outputs": [],
   "source": [
    "re.findall(r'thr[oe]w', \"I can throw that farther than you threw it.\", flags=re.IGNORECASE)"
   ]
  },
  {
   "cell_type": "code",
   "execution_count": null,
   "metadata": {
    "collapsed": false
   },
   "outputs": [],
   "source": [
    "class BecomeTest(RegexRuleTester):\n",
    "    key = 'become'\n",
    "    test_input = 'become a man became a woman'\n",
    "    expected = ['become a man','became a woman']\n",
    "    kwargs = {'flags':re.IGNORECASE} \n",
    "    \n",
    "runTest(BecomeTest)"
   ]
  },
  {
   "cell_type": "markdown",
   "metadata": {},
   "source": [
    "### \"scare quotes\"\n",
    "\"She became the UK's first transgender MP.\"\n",
    "\n",
    "vs.\n",
    "\n",
    "\"She\" became the UK's first transgender MP.\n",
    "\n",
    "See the difference?\n",
    "We'll need to use the or operator \"|\". (Also, notice the Curse of Slashes...)"
   ]
  },
  {
   "cell_type": "code",
   "execution_count": null,
   "metadata": {
    "collapsed": false
   },
   "outputs": [],
   "source": [
    "re.findall(r'\\((?:cat|dog)\\)', \"My pet, (cat) is entirely superior to your's, (dog).\")"
   ]
  },
  {
   "cell_type": "code",
   "execution_count": null,
   "metadata": {
    "collapsed": false
   },
   "outputs": [],
   "source": [
    "class ScareQuoteTest(RegexRuleTester):\n",
    "    key = 'scare-quote'\n",
    "    test_input = '\"Boy\" \"GIRL\" \"He\" \"she\" \"man\" \"Woman\"'\n",
    "    expected = ['\"Boy\"', '\"GIRL\"', '\"He\"', '\"she\"', '\"man\"', '\"Woman\"']\n",
    "    kwargs = {'flags':re.IGNORECASE} \n",
    "    \n",
    "runTest(ScareQuoteTest)"
   ]
  },
  {
   "cell_type": "markdown",
   "metadata": {},
   "source": [
    "There, it doesn't take very much to achieve something [potentially useful](https://github.com/augeas/TransMediaLint)."
   ]
  },
  {
   "cell_type": "markdown",
   "metadata": {},
   "source": [
    "# Common Vulnerabilities and Exposures\n",
    "Information security flaws are assigned [CVE numbers](https://en.wikipedia.org/wiki/Common_Vulnerabilities_and_Exposures), [FireEye](http://web.archive.org/web/20180109214237/https://www.fireeye.com/current-threats/recent-zero-day-attacks.html) reckon they've found rather a lot. Complete the regex to find all the CVEs on their page."
   ]
  },
  {
   "cell_type": "markdown",
   "metadata": {},
   "source": [
    "## Hint:\n",
    "Sometimes we want to ensure that all the items in a list are unique. The cheapest way to do that is to convert the list into a set and back again."
   ]
  },
  {
   "cell_type": "code",
   "execution_count": null,
   "metadata": {
    "collapsed": false
   },
   "outputs": [],
   "source": [
    "not_unique = ['badger', 'stoat', 'badger', 'vole', 'fox', 'vole', 'weasel']\n",
    "list(set(not_unique))"
   ]
  },
  {
   "cell_type": "code",
   "execution_count": null,
   "metadata": {
    "collapsed": false
   },
   "outputs": [],
   "source": [
    "url = 'http://web.archive.org/web/20180109214237/https://www.fireeye.com/current-threats/recent-zero-day-attacks.html'\n",
    "fire_eye_page = requests.get(url).text"
   ]
  },
  {
   "cell_type": "code",
   "execution_count": null,
   "metadata": {
    "collapsed": false,
    "scrolled": true
   },
   "outputs": [],
   "source": [
    "# Complete the regex:\n",
    "cve_regex = r''\n",
    "\n",
    "def fireEyeCVEs():\n",
    "    return list(set(re.findall(cve_regex,fire_eye)))\n",
    "\n",
    "class TestCVE(HashedListTester):\n",
    "    f = fireEyeCVEs\n",
    "    hsh = '12b831fc2950bb1f09c457d6955bd0a2c78276c15cb6e853d2f61440'\n",
    "    \n",
    "runTest(TestCVE)"
   ]
  },
  {
   "cell_type": "markdown",
   "metadata": {},
   "source": [
    "# Sub-Mission:\n",
    "Germany really did have rather a lot of [U-boats](https://en.wikipedia.org/wiki/List_of_U-boats_of_Germany). The names were pretty regular: \n",
    "\n",
    "- [U-1](https://en.wikipedia.org/wiki/SM_U-1_(Germany)\n",
    "- [U-47](https://en.wikipedia.org/wiki/Neumann_U47)\n",
    "- [U-235](https://en.wikipedia.org/wiki/Uranium-235)\n",
    "- [UB-40](https://en.wikipedia.org/wiki/UB40)\n",
    "- [UC-77](https://en.wikipedia.org/wiki/SM_UC-77)\n",
    "\n",
    "The \"foreign\" ones are a slight complication:\n",
    "\n",
    "- [UA](https://en.wikipedia.org/wiki/SM_UA)\n",
    "- [U-A](https://en.wikipedia.org/wiki/German_submarine_U-A)\n",
    "- [U-B](https://en.wikipedia.org/wiki/HMS_Seal_(N37)\n",
    "- U-C1\n",
    "- [U-D2](https://en.wikipedia.org/wiki/HNLMS_O_12)\n",
    "- [U-F3](https://en.wikipedia.org/wiki/French_submarine_Astr%C3%A9e_(Q200)\n",
    "- [UIT-23](https://en.wikipedia.org/wiki/Italian_submarine_Reginaldo_Giuliani)\n",
    "\n",
    "Complete the regex to find them ALL."
   ]
  },
  {
   "cell_type": "code",
   "execution_count": null,
   "metadata": {
    "collapsed": false
   },
   "outputs": [],
   "source": [
    "u_boat_wiki = requests.get('https://en.wikipedia.org/wiki/List_of_U-boats_of_Germany').text"
   ]
  },
  {
   "cell_type": "code",
   "execution_count": null,
   "metadata": {
    "collapsed": false
   },
   "outputs": [],
   "source": [
    "# Complete the regex:\n",
    "u_boat_regex = r''\n",
    "\n",
    "def uBoatCodes():\n",
    "    return list(set(re.findall(u_boat_regex,u_boat_wiki)))\n",
    "\n",
    "class TestUBoatCodes(HashedListTester):\n",
    "    # I picked you up on my TV screen I feel your undercurrent flowing\n",
    "    f = uBoatCodes\n",
    "    # I can't tell you what I've found\n",
    "    hsh = '7ed5e30a44806a5b6a0ea66ded629aa5c41aea88b565966978a14a89'\n",
    "    \n",
    "    def testExtra(self):\n",
    "        codes = uBoatCodes()\n",
    "        for u in ['U-47', 'UB-40', 'UC-77', 'UA', 'U-A', 'U-B', 'U-C1', 'U-D2', 'U-F3', 'UIT-23']:\n",
    "            self.assertTrue(u in codes)\n",
    "    \n",
    "runTest(TestUBoatCodes)"
   ]
  },
  {
   "cell_type": "markdown",
   "metadata": {},
   "source": [
    "# Ohway, isthay isway ustjay upidstay!\n",
    "[Pig Latin](https://en.wikipedia.org/wiki/Pig_Latin) is a silly game whose origins date back surprisingly far in the mists of time. For our purposes, the rules are:\n",
    "\n",
    "- If a word starts with a vowel, append \"way\".\n",
    "- If a word has leading consonants, move them to the end and append \"ay\".\n",
    "\n",
    "Some anonymous individual at the University of Texas has perpetrated a [web page](http://www.cs.utexas.edu/users/jbc/home/chef.html) that does this. In a gratuitous waste of the Requests library, we can make HTTP POST requests to it:"
   ]
  },
  {
   "cell_type": "code",
   "execution_count": null,
   "metadata": {
    "collapsed": false
   },
   "outputs": [],
   "source": [
    "def utexasJiveFilter(text, filter_type='piglatin'):\n",
    "    url = 'https://www.cs.utexas.edu/users/jbc/bork/bork.cgi'\n",
    "    return requests.post(url, data={'type':filter_type,'input':text}).text[0:-1]"
   ]
  },
  {
   "cell_type": "markdown",
   "metadata": {},
   "source": [
    "## \"We should be able to use regular expressions to implement pig latin:\""
   ]
  },
  {
   "cell_type": "code",
   "execution_count": null,
   "metadata": {
    "collapsed": false
   },
   "outputs": [],
   "source": [
    "utexasJiveFilter('we should be able to use regular expressions to implement pig latin.', filter_type='piglatin')"
   ]
  },
  {
   "cell_type": "code",
   "execution_count": null,
   "metadata": {
    "collapsed": false
   },
   "outputs": [],
   "source": [
    "utexasJiveFilter('we should be able to use regular expressions to implement pig latin.', filter_type='chef')"
   ]
  },
  {
   "cell_type": "markdown",
   "metadata": {},
   "source": [
    "All you need to do is write two regexes, both of which will need at least one caret \"^\" symbol. This can be used to  return matches at the start of a string, and to invert character classes. Matching a vowel at the start of a word shouldn't be too hard, with a judicous use of character classes. Next you will need to match one or more leading consonants, so NOT a vowel, followed by a vowel that isn't returned in your match. Look up non-capturing groups. The string manipulation is done for you by the \"pig_latin\" function, the test checks it by making POST requests to the web page."
   ]
  },
  {
   "cell_type": "code",
   "execution_count": null,
   "metadata": {
    "collapsed": false
   },
   "outputs": [],
   "source": [
    "initial_vowel = r''\n",
    "leading_consonants = r''"
   ]
  },
  {
   "cell_type": "code",
   "execution_count": null,
   "metadata": {
    "collapsed": false
   },
   "outputs": [],
   "source": [
    "class TestPigLatin(TestCase):\n",
    "    \n",
    "    def testConversion(self):\n",
    "        texts = ['regular expressions can be rather tiresome',\n",
    "            'at least we are not doing this in Perl',\n",
    "            'imagine the sheer horror of writing this in R']\n",
    "        converted = list(map(pig_latin,texts))\n",
    "        ground_truth = list(map(utexasJiveFilter,texts))\n",
    "        self.assertEqual(converted, ground_truth)\n",
    "        \n",
    "def pig_latin(text):\n",
    "    \n",
    "    def munge_word(word):\n",
    "        if re.findall(initial_vowel,word,re.IGNORECASE):\n",
    "            return word + 'way'\n",
    "        else:\n",
    "            if len(word) == 1:\n",
    "                return word + 'ay'\n",
    "            l = len(re.findall(leading_consonants,word,re.IGNORECASE)[0])\n",
    "\n",
    "            return word[l:] + word[0:l] + 'ay'\n",
    "    \n",
    "    return ' '.join(map(munge_word,text.split()))\n",
    "        \n",
    "runTest(TestPigLatin)"
   ]
  },
  {
   "cell_type": "markdown",
   "metadata": {},
   "source": [
    "# Chapter and Verse\n",
    "Your last job is to write a regex that matches [biblical references](https://en.wikipedia.org/wiki/Bible_citation#Common_formats). They work a bit like this:\n",
    "\n",
    "- book and chapter: Isaiah 58\n",
    "- book and chapter range: John 1–3\n",
    "- book, chapter and verse: Romans 12:13\n",
    "- book, chapter and verse range: Leviticus 19:33-34\n",
    "\n",
    "We're going to need some known references to test our regex, take a look at the [page source](view-source:http://www.ucc.org/justice_immigration_worship_biblical-references-to) of this [page from the United Church of Christ](http://www.ucc.org/justice_immigration_worship_biblical-references-to). There are loads of biblical references in *strong* tags, which we can grab with [Requests](http://docs.python-requests.org/en/master/) and [BeautifulSoup](https://www.crummy.com/software/BeautifulSoup/)."
   ]
  },
  {
   "cell_type": "code",
   "execution_count": null,
   "metadata": {
    "collapsed": false
   },
   "outputs": [],
   "source": [
    "ucc_immigration = requests.get('http://www.ucc.org/justice_immigration_worship_biblical-references-to')\n",
    "ucc_text = ucc_immigration.text\n",
    "ucc_soup = BeautifulSoup(ucc_immigration.content, \"html5lib\").find_all('strong')"
   ]
  },
  {
   "cell_type": "markdown",
   "metadata": {},
   "source": [
    "If we take all but the first and last two strong tags, split on the string \" and \" and take the first chunk, we get a pretty clean list of Bible references, if we [filter](https://docs.python.org/3/library/functions.html#filter) to take only the strings that start with a letter. The results are stored in \"ground_truth_bib_refs\":"
   ]
  },
  {
   "cell_type": "code",
   "execution_count": null,
   "metadata": {
    "collapsed": false
   },
   "outputs": [],
   "source": [
    "raw_bib_refs = map(lambda r: r.text.split(' and ')[0], ucc_soup[1:-2])\n",
    "ground_truth_bib_refs = list(filter(lambda r: r[0].isalpha(), raw_bib_refs))\n",
    "ground_truth_bib_refs[-11:-1]"
   ]
  },
  {
   "cell_type": "markdown",
   "metadata": {},
   "source": [
    "So, if we write a regex to find find biblical references, if we pass it the raw text of the [web page]('http://www.ucc.org/justice_immigration_worship_biblical-references-to'), it should pick-up nearly all the ones in \n",
    "\"ground_truth_bib_refs\", without picking up too much junk.\n",
    "\n",
    "### Hint:\n",
    "You might start by searching for capitalized words followed by a space and a number. This will get you a lot of spurious results like \"Heading 3\" or \"Copyright 2018\", but ignore those, the test function filteres those out. There are complications like \"II Corinthians 8:13-15\", but if you don't catch those, you won't do *too* badly."
   ]
  },
  {
   "cell_type": "markdown",
   "metadata": {},
   "source": [
    "## Not *strictly* relevant, but quite interesting:\n",
    "We're going to evaluate the regex by computing its [F1 score](https://en.wikipedia.org/wiki/F1_score) via its\n",
    "[precision and recall](https://en.wikipedia.org/wiki/Precision_and_recall#Precision)."
   ]
  },
  {
   "cell_type": "code",
   "execution_count": null,
   "metadata": {
    "collapsed": false
   },
   "outputs": [],
   "source": [
    "def f1(test_set, true_set):\n",
    "    retrieved = len(test_set)\n",
    "    relevant = len(true_set)\n",
    "    intersect = len(test_set.intersection(true_set))\n",
    "    precision = intersect / retrieved\n",
    "    recall = intersect / relevant\n",
    "    return 2.0 * (precision * recall) / (precision + recall)"
   ]
  },
  {
   "cell_type": "markdown",
   "metadata": {},
   "source": [
    "## Finally,  the bit where you come in:\n",
    "Complete \"bib_ref_regex\" in the function below. The tests will check its performance against various thresholds, can you beat 93%?"
   ]
  },
  {
   "cell_type": "code",
   "execution_count": null,
   "metadata": {
    "collapsed": false,
    "scrolled": true
   },
   "outputs": [],
   "source": [
    "def bibleRefs(text):\n",
    "    # You your code here, complete the regex.\n",
    "    bib_ref_regex = r''\n",
    "    return re.findall(bib_ref_regex, text)\n",
    "    \n",
    "    return list(filter(lambda r: not (r.startswith('Heading') or r.startswith('Copy'))))\n",
    "\n",
    "class TestBibleRefs(TestCase):\n",
    "    \n",
    "    def setUp(self):\n",
    "        true_set = set(ground_truth_bib_refs)\n",
    "        ref_filter = lambda r: not (r.startswith('Heading') or r.startswith('Copyright'))\n",
    "        test_set = set(filter(ref_filter,bibleRefs(ucc_text)))     \n",
    "        self.score = f1(test_set, true_set)\n",
    "        \n",
    "    def test50Percent(self):\n",
    "        self.assertGreater(self.score,0.5)\n",
    "    \n",
    "    def test75Percent(self):\n",
    "        self.assertGreater(self.score,0.75)\n",
    "        \n",
    "    def test87Percent(self):\n",
    "        self.assertGreater(self.score,0.87)\n",
    "        \n",
    "    def test93Percent(self):\n",
    "        self.assertGreater(self.score,0.93)\n",
    "        \n",
    "runTest(TestBibleRefs)"
   ]
  },
  {
   "cell_type": "markdown",
   "metadata": {},
   "source": [
    "It's interesting to see how far we can get with a simple regex, without a gazetteer of books of the Bible, which is more [complicated](https://en.wikipedia.org/wiki/Books_of_the_Bible) than one might realize. This\n",
    "[page from \"Compassion International Incorporated\"](https://www.compassion.com/poverty/what-the-bible-says-about-poverty.htm) has loads of Bible references in unstructured text. Let's see how many our regex spots:"
   ]
  },
  {
   "cell_type": "code",
   "execution_count": null,
   "metadata": {
    "collapsed": false
   },
   "outputs": [],
   "source": [
    "cci_text = requests.get('https://www.compassion.com/poverty/what-the-bible-says-about-poverty.htm').text\n",
    "bibleRefs(cci_text)"
   ]
  },
  {
   "cell_type": "markdown",
   "metadata": {},
   "source": [
    "![XKCD Regex](https://imgs.xkcd.com/comics/regular_expressions.png)\n",
    "[XKCD](https://xkcd.com/1171/)"
   ]
  },
  {
   "cell_type": "code",
   "execution_count": null,
   "metadata": {
    "collapsed": false
   },
   "outputs": [],
   "source": [
    "def testAll():\n",
    "    all_the_tests = [PreOpTest, PostOpTest, BornTest, BecomeTest, ScareQuoteTest, TestCVE, TestUBoatCodes,\n",
    "        TestPigLatin, TestBibleRefs]\n",
    "    total_tests = 0\n",
    "    total_passes = 0\n",
    "    runner = TextTestRunner(verbosity=0)\n",
    "    for test in all_the_tests:\n",
    "        suite = TestLoader().loadTestsFromModule(test())\n",
    "        count = suite.countTestCases()\n",
    "        total_tests += count\n",
    "        result = runner.run(suite)\n",
    "        total_passes += count - len(result.errors) - len(result.failures)\n",
    "        print()\n",
    "    return total_tests, total_passes\n",
    "\n",
    "tests, passes = testAll()"
   ]
  },
  {
   "cell_type": "code",
   "execution_count": null,
   "metadata": {
    "collapsed": false
   },
   "outputs": [],
   "source": [
    "print('tests run:', tests)\n",
    "print('tests passed:', passes)"
   ]
  },
  {
   "cell_type": "code",
   "execution_count": null,
   "metadata": {
    "collapsed": true
   },
   "outputs": [],
   "source": []
  }
 ],
 "metadata": {
  "kernelspec": {
   "display_name": "Python 3",
   "language": "python",
   "name": "python3"
  },
  "language_info": {
   "codemirror_mode": {
    "name": "ipython",
    "version": 3
   },
   "file_extension": ".py",
   "mimetype": "text/x-python",
   "name": "python",
   "nbconvert_exporter": "python",
   "pygments_lexer": "ipython3",
   "version": "3.5.2"
  }
 },
 "nbformat": 4,
 "nbformat_minor": 0
}
