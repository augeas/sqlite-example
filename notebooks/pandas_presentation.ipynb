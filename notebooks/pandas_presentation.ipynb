{
 "cells": [
  {
   "cell_type": "markdown",
   "metadata": {
    "slideshow": {
     "slide_type": "slide"
    }
   },
   "source": [
    "# A (*Very*) Brief Introduction to Pandas\n",
    "![Panda](https://pbs.twimg.com/media/ChN6FVeWwAAwP_z.jpg)\n",
    "[@ThePracticalDev](https://twitter.com/thepracticaldev/status/726058213431500800)"
   ]
  },
  {
   "cell_type": "markdown",
   "metadata": {
    "slideshow": {
     "slide_type": "slide"
    }
   },
   "source": [
    "![Sloth](https://pbs.twimg.com/media/CcuYraMXIAE5Yn6.jpg)\n",
    "[@ThePracticalDev](https://twitter.com/thepracticaldev/status/705825638851149824)"
   ]
  },
  {
   "cell_type": "markdown",
   "metadata": {
    "slideshow": {
     "slide_type": "slide"
    }
   },
   "source": [
    "# UK General Election data has been made available at data.gov.uk.\n",
    "# (As an [Excel file](https://data.gov.uk/dataset/general-election-results-2017/resource/ddbeec53-59f1-4b3b-b8eb-06768e4abba4). Thanks a bunch!)\n",
    "## We can make sense of it with Pandas."
   ]
  },
  {
   "cell_type": "code",
   "execution_count": 1,
   "metadata": {
    "collapsed": false,
    "slideshow": {
     "slide_type": "fragment"
    }
   },
   "outputs": [
    {
     "name": "stdout",
     "output_type": "stream",
     "text": [
      "xlrd is installed\n"
     ]
    }
   ],
   "source": [
    "import pandas as pd\n",
    "\n",
    "try:\n",
    "    import xlrd\n",
    "    print(\"xlrd is installed\")\n",
    "except:\n",
    "    print(\"You need the xlrd package for this notebook!\")"
   ]
  },
  {
   "cell_type": "markdown",
   "metadata": {
    "slideshow": {
     "slide_type": "slide"
    }
   },
   "source": [
    "# We could read .csv files just as easily."
   ]
  },
  {
   "cell_type": "code",
   "execution_count": 2,
   "metadata": {
    "collapsed": false,
    "slideshow": {
     "slide_type": "subslide"
    }
   },
   "outputs": [],
   "source": [
    "uk_ge = pd.read_excel('https://files.datapress.com/london/dataset/general-election-results-2017/2017-06-29T11:17:24.85/2017%20General%20Election%20Results.xls')"
   ]
  },
  {
   "cell_type": "markdown",
   "metadata": {
    "slideshow": {
     "slide_type": "slide"
    }
   },
   "source": [
    "# We get back a *Dataframe* object, we can slice it like a list."
   ]
  },
  {
   "cell_type": "code",
   "execution_count": 3,
   "metadata": {
    "collapsed": false,
    "slideshow": {
     "slide_type": "fragment"
    }
   },
   "outputs": [
    {
     "data": {
      "text/html": [
       "<div>\n",
       "<table border=\"1\" class=\"dataframe\">\n",
       "  <thead>\n",
       "    <tr style=\"text-align: right;\">\n",
       "      <th></th>\n",
       "      <th>Year</th>\n",
       "      <th>Code</th>\n",
       "      <th>Constituency</th>\n",
       "      <th>Region</th>\n",
       "      <th>Party Abbreviation</th>\n",
       "      <th>Party</th>\n",
       "      <th>Candidate Votes</th>\n",
       "      <th>Share of Vote</th>\n",
       "      <th>Total constituency votes</th>\n",
       "      <th>Majority Party</th>\n",
       "      <th>Majority</th>\n",
       "      <th>Majority %</th>\n",
       "    </tr>\n",
       "  </thead>\n",
       "  <tbody>\n",
       "    <tr>\n",
       "      <th>0</th>\n",
       "      <td>2017</td>\n",
       "      <td>E14000530</td>\n",
       "      <td>Aldershot</td>\n",
       "      <td>South East</td>\n",
       "      <td>C</td>\n",
       "      <td>Conservative</td>\n",
       "      <td>26955</td>\n",
       "      <td>0.550608</td>\n",
       "      <td>48955.0</td>\n",
       "      <td>C</td>\n",
       "      <td>11478.0</td>\n",
       "      <td>0.23446</td>\n",
       "    </tr>\n",
       "    <tr>\n",
       "      <th>1</th>\n",
       "      <td>2017</td>\n",
       "      <td>E14000530</td>\n",
       "      <td>Aldershot</td>\n",
       "      <td>South East</td>\n",
       "      <td>Lab</td>\n",
       "      <td>Labour</td>\n",
       "      <td>15477</td>\n",
       "      <td>0.316147</td>\n",
       "      <td>NaN</td>\n",
       "      <td>NaN</td>\n",
       "      <td>NaN</td>\n",
       "      <td>NaN</td>\n",
       "    </tr>\n",
       "    <tr>\n",
       "      <th>2</th>\n",
       "      <td>2017</td>\n",
       "      <td>E14000530</td>\n",
       "      <td>Aldershot</td>\n",
       "      <td>South East</td>\n",
       "      <td>LD</td>\n",
       "      <td>Lib Dem</td>\n",
       "      <td>3637</td>\n",
       "      <td>0.074293</td>\n",
       "      <td>NaN</td>\n",
       "      <td>NaN</td>\n",
       "      <td>NaN</td>\n",
       "      <td>NaN</td>\n",
       "    </tr>\n",
       "    <tr>\n",
       "      <th>3</th>\n",
       "      <td>2017</td>\n",
       "      <td>E14000530</td>\n",
       "      <td>Aldershot</td>\n",
       "      <td>South East</td>\n",
       "      <td>UKIP</td>\n",
       "      <td>UKIP</td>\n",
       "      <td>1796</td>\n",
       "      <td>0.036687</td>\n",
       "      <td>NaN</td>\n",
       "      <td>NaN</td>\n",
       "      <td>NaN</td>\n",
       "      <td>NaN</td>\n",
       "    </tr>\n",
       "    <tr>\n",
       "      <th>4</th>\n",
       "      <td>2017</td>\n",
       "      <td>E14000530</td>\n",
       "      <td>Aldershot</td>\n",
       "      <td>South East</td>\n",
       "      <td>Green</td>\n",
       "      <td>Green</td>\n",
       "      <td>1090</td>\n",
       "      <td>0.022265</td>\n",
       "      <td>NaN</td>\n",
       "      <td>NaN</td>\n",
       "      <td>NaN</td>\n",
       "      <td>NaN</td>\n",
       "    </tr>\n",
       "  </tbody>\n",
       "</table>\n",
       "</div>"
      ],
      "text/plain": [
       "   Year       Code Constituency      Region Party Abbreviation         Party  \\\n",
       "0  2017  E14000530    Aldershot  South East                  C  Conservative   \n",
       "1  2017  E14000530    Aldershot  South East                Lab        Labour   \n",
       "2  2017  E14000530    Aldershot  South East                 LD       Lib Dem   \n",
       "3  2017  E14000530    Aldershot  South East               UKIP          UKIP   \n",
       "4  2017  E14000530    Aldershot  South East              Green         Green   \n",
       "\n",
       "   Candidate Votes  Share of Vote  Total constituency votes Majority Party  \\\n",
       "0            26955       0.550608                   48955.0              C   \n",
       "1            15477       0.316147                       NaN            NaN   \n",
       "2             3637       0.074293                       NaN            NaN   \n",
       "3             1796       0.036687                       NaN            NaN   \n",
       "4             1090       0.022265                       NaN            NaN   \n",
       "\n",
       "   Majority  Majority %  \n",
       "0   11478.0     0.23446  \n",
       "1       NaN         NaN  \n",
       "2       NaN         NaN  \n",
       "3       NaN         NaN  \n",
       "4       NaN         NaN  "
      ]
     },
     "execution_count": 3,
     "metadata": {},
     "output_type": "execute_result"
    }
   ],
   "source": [
    "uk_ge[0:5]"
   ]
  },
  {
   "cell_type": "markdown",
   "metadata": {
    "slideshow": {
     "slide_type": "slide"
    }
   },
   "source": [
    "# The \"describe\" method shows we have data from 2010-2017"
   ]
  },
  {
   "cell_type": "code",
   "execution_count": 4,
   "metadata": {
    "collapsed": false,
    "slideshow": {
     "slide_type": "fragment"
    }
   },
   "outputs": [
    {
     "data": {
      "text/html": [
       "<div>\n",
       "<table border=\"1\" class=\"dataframe\">\n",
       "  <thead>\n",
       "    <tr style=\"text-align: right;\">\n",
       "      <th></th>\n",
       "      <th>Year</th>\n",
       "      <th>Candidate Votes</th>\n",
       "      <th>Share of Vote</th>\n",
       "      <th>Total constituency votes</th>\n",
       "      <th>Majority</th>\n",
       "      <th>Majority %</th>\n",
       "    </tr>\n",
       "  </thead>\n",
       "  <tbody>\n",
       "    <tr>\n",
       "      <th>count</th>\n",
       "      <td>11373.000000</td>\n",
       "      <td>11373.000000</td>\n",
       "      <td>11373.000000</td>\n",
       "      <td>1950.000000</td>\n",
       "      <td>1950.000000</td>\n",
       "      <td>1950.000000</td>\n",
       "    </tr>\n",
       "    <tr>\n",
       "      <th>mean</th>\n",
       "      <td>2013.747208</td>\n",
       "      <td>8139.515168</td>\n",
       "      <td>0.171459</td>\n",
       "      <td>47472.156923</td>\n",
       "      <td>10619.703077</td>\n",
       "      <td>0.221490</td>\n",
       "    </tr>\n",
       "    <tr>\n",
       "      <th>std</th>\n",
       "      <td>2.949097</td>\n",
       "      <td>9243.711226</td>\n",
       "      <td>0.188516</td>\n",
       "      <td>7241.484460</td>\n",
       "      <td>7372.311880</td>\n",
       "      <td>0.145144</td>\n",
       "    </tr>\n",
       "    <tr>\n",
       "      <th>min</th>\n",
       "      <td>2010.000000</td>\n",
       "      <td>12.000000</td>\n",
       "      <td>0.000205</td>\n",
       "      <td>14717.000000</td>\n",
       "      <td>2.000000</td>\n",
       "      <td>0.000048</td>\n",
       "    </tr>\n",
       "    <tr>\n",
       "      <th>25%</th>\n",
       "      <td>2010.000000</td>\n",
       "      <td>1016.000000</td>\n",
       "      <td>0.021899</td>\n",
       "      <td>42702.000000</td>\n",
       "      <td>4531.000000</td>\n",
       "      <td>0.097635</td>\n",
       "    </tr>\n",
       "    <tr>\n",
       "      <th>50%</th>\n",
       "      <td>2015.000000</td>\n",
       "      <td>3565.000000</td>\n",
       "      <td>0.076740</td>\n",
       "      <td>47952.000000</td>\n",
       "      <td>9935.000000</td>\n",
       "      <td>0.215416</td>\n",
       "    </tr>\n",
       "    <tr>\n",
       "      <th>75%</th>\n",
       "      <td>2017.000000</td>\n",
       "      <td>13664.000000</td>\n",
       "      <td>0.298487</td>\n",
       "      <td>52501.250000</td>\n",
       "      <td>15445.250000</td>\n",
       "      <td>0.320274</td>\n",
       "    </tr>\n",
       "    <tr>\n",
       "      <th>max</th>\n",
       "      <td>2017.000000</td>\n",
       "      <td>47351.000000</td>\n",
       "      <td>0.857288</td>\n",
       "      <td>74479.000000</td>\n",
       "      <td>42214.000000</td>\n",
       "      <td>0.771406</td>\n",
       "    </tr>\n",
       "  </tbody>\n",
       "</table>\n",
       "</div>"
      ],
      "text/plain": [
       "               Year  Candidate Votes  Share of Vote  Total constituency votes  \\\n",
       "count  11373.000000     11373.000000   11373.000000               1950.000000   \n",
       "mean    2013.747208      8139.515168       0.171459              47472.156923   \n",
       "std        2.949097      9243.711226       0.188516               7241.484460   \n",
       "min     2010.000000        12.000000       0.000205              14717.000000   \n",
       "25%     2010.000000      1016.000000       0.021899              42702.000000   \n",
       "50%     2015.000000      3565.000000       0.076740              47952.000000   \n",
       "75%     2017.000000     13664.000000       0.298487              52501.250000   \n",
       "max     2017.000000     47351.000000       0.857288              74479.000000   \n",
       "\n",
       "           Majority   Majority %  \n",
       "count   1950.000000  1950.000000  \n",
       "mean   10619.703077     0.221490  \n",
       "std     7372.311880     0.145144  \n",
       "min        2.000000     0.000048  \n",
       "25%     4531.000000     0.097635  \n",
       "50%     9935.000000     0.215416  \n",
       "75%    15445.250000     0.320274  \n",
       "max    42214.000000     0.771406  "
      ]
     },
     "execution_count": 4,
     "metadata": {},
     "output_type": "execute_result"
    }
   ],
   "source": [
    "uk_ge.describe()"
   ]
  },
  {
   "cell_type": "markdown",
   "metadata": {
    "slideshow": {
     "slide_type": "slide"
    }
   },
   "source": [
    "# We can select columns like a dictionary:"
   ]
  },
  {
   "cell_type": "code",
   "execution_count": 5,
   "metadata": {
    "collapsed": false,
    "slideshow": {
     "slide_type": "fragment"
    }
   },
   "outputs": [
    {
     "data": {
      "text/plain": [
       "0                   Aldershot\n",
       "1                   Aldershot\n",
       "2                   Aldershot\n",
       "3                   Aldershot\n",
       "4                   Aldershot\n",
       "5         Aldridge-Brownhills\n",
       "6         Aldridge-Brownhills\n",
       "7         Aldridge-Brownhills\n",
       "8         Aldridge-Brownhills\n",
       "9    Altrincham and Sale West\n",
       "Name: Constituency, dtype: object"
      ]
     },
     "execution_count": 5,
     "metadata": {},
     "output_type": "execute_result"
    }
   ],
   "source": [
    "uk_ge['Constituency'][0:10]"
   ]
  },
  {
   "cell_type": "markdown",
   "metadata": {
    "slideshow": {
     "slide_type": "slide"
    }
   },
   "source": [
    "# Sorting is easy:"
   ]
  },
  {
   "cell_type": "code",
   "execution_count": 6,
   "metadata": {
    "collapsed": false,
    "slideshow": {
     "slide_type": "fragment"
    }
   },
   "outputs": [
    {
     "data": {
      "text/html": [
       "<div>\n",
       "<table border=\"1\" class=\"dataframe\">\n",
       "  <thead>\n",
       "    <tr style=\"text-align: right;\">\n",
       "      <th></th>\n",
       "      <th>Year</th>\n",
       "      <th>Code</th>\n",
       "      <th>Constituency</th>\n",
       "      <th>Region</th>\n",
       "      <th>Party Abbreviation</th>\n",
       "      <th>Party</th>\n",
       "      <th>Candidate Votes</th>\n",
       "      <th>Share of Vote</th>\n",
       "      <th>Total constituency votes</th>\n",
       "      <th>Majority Party</th>\n",
       "      <th>Majority</th>\n",
       "      <th>Majority %</th>\n",
       "    </tr>\n",
       "  </thead>\n",
       "  <tbody>\n",
       "    <tr>\n",
       "      <th>1249</th>\n",
       "      <td>2017</td>\n",
       "      <td>E14000775</td>\n",
       "      <td>Knowsley</td>\n",
       "      <td>North West</td>\n",
       "      <td>Lab</td>\n",
       "      <td>Labour</td>\n",
       "      <td>47351</td>\n",
       "      <td>0.853433</td>\n",
       "      <td>55483.0</td>\n",
       "      <td>Lab</td>\n",
       "      <td>42214.0</td>\n",
       "      <td>0.760846</td>\n",
       "    </tr>\n",
       "    <tr>\n",
       "      <th>745</th>\n",
       "      <td>2017</td>\n",
       "      <td>E14000679</td>\n",
       "      <td>East Ham</td>\n",
       "      <td>London</td>\n",
       "      <td>Lab</td>\n",
       "      <td>Labour</td>\n",
       "      <td>47124</td>\n",
       "      <td>0.832094</td>\n",
       "      <td>56633.0</td>\n",
       "      <td>Lab</td>\n",
       "      <td>39883.0</td>\n",
       "      <td>0.704236</td>\n",
       "    </tr>\n",
       "    <tr>\n",
       "      <th>968</th>\n",
       "      <td>2017</td>\n",
       "      <td>E14000721</td>\n",
       "      <td>Hackney South and Shoreditch</td>\n",
       "      <td>London</td>\n",
       "      <td>Lab</td>\n",
       "      <td>Labour</td>\n",
       "      <td>43974</td>\n",
       "      <td>0.794414</td>\n",
       "      <td>55354.0</td>\n",
       "      <td>Lab</td>\n",
       "      <td>37931.0</td>\n",
       "      <td>0.685244</td>\n",
       "    </tr>\n",
       "    <tr>\n",
       "      <th>361</th>\n",
       "      <td>2017</td>\n",
       "      <td>E14000602</td>\n",
       "      <td>Bristol West</td>\n",
       "      <td>South West</td>\n",
       "      <td>Lab</td>\n",
       "      <td>Labour</td>\n",
       "      <td>47213</td>\n",
       "      <td>0.659326</td>\n",
       "      <td>71608.0</td>\n",
       "      <td>Lab</td>\n",
       "      <td>37336.0</td>\n",
       "      <td>0.521394</td>\n",
       "    </tr>\n",
       "    <tr>\n",
       "      <th>422</th>\n",
       "      <td>2017</td>\n",
       "      <td>E14000615</td>\n",
       "      <td>Camberwell and Peckham</td>\n",
       "      <td>London</td>\n",
       "      <td>Lab</td>\n",
       "      <td>Labour</td>\n",
       "      <td>44665</td>\n",
       "      <td>0.777973</td>\n",
       "      <td>57412.0</td>\n",
       "      <td>Lab</td>\n",
       "      <td>37316.0</td>\n",
       "      <td>0.649969</td>\n",
       "    </tr>\n",
       "  </tbody>\n",
       "</table>\n",
       "</div>"
      ],
      "text/plain": [
       "      Year       Code                  Constituency      Region  \\\n",
       "1249  2017  E14000775                      Knowsley  North West   \n",
       "745   2017  E14000679                      East Ham      London   \n",
       "968   2017  E14000721  Hackney South and Shoreditch      London   \n",
       "361   2017  E14000602                  Bristol West  South West   \n",
       "422   2017  E14000615        Camberwell and Peckham      London   \n",
       "\n",
       "     Party Abbreviation   Party  Candidate Votes  Share of Vote  \\\n",
       "1249                Lab  Labour            47351       0.853433   \n",
       "745                 Lab  Labour            47124       0.832094   \n",
       "968                 Lab  Labour            43974       0.794414   \n",
       "361                 Lab  Labour            47213       0.659326   \n",
       "422                 Lab  Labour            44665       0.777973   \n",
       "\n",
       "      Total constituency votes Majority Party  Majority  Majority %  \n",
       "1249                   55483.0            Lab   42214.0    0.760846  \n",
       "745                    56633.0            Lab   39883.0    0.704236  \n",
       "968                    55354.0            Lab   37931.0    0.685244  \n",
       "361                    71608.0            Lab   37336.0    0.521394  \n",
       "422                    57412.0            Lab   37316.0    0.649969  "
      ]
     },
     "execution_count": 6,
     "metadata": {},
     "output_type": "execute_result"
    }
   ],
   "source": [
    "uk_ge.sort_values('Majority', ascending=False)[0:5]"
   ]
  },
  {
   "cell_type": "markdown",
   "metadata": {
    "slideshow": {
     "slide_type": "slide"
    }
   },
   "source": [
    "# Sometimes, (often) data is broken.\n",
    "# The \"Majority %\" isn't really a percentage!"
   ]
  },
  {
   "cell_type": "code",
   "execution_count": 7,
   "metadata": {
    "collapsed": false,
    "slideshow": {
     "slide_type": "fragment"
    }
   },
   "outputs": [
    {
     "data": {
      "text/html": [
       "<div>\n",
       "<table border=\"1\" class=\"dataframe\">\n",
       "  <thead>\n",
       "    <tr style=\"text-align: right;\">\n",
       "      <th></th>\n",
       "      <th>Year</th>\n",
       "      <th>Code</th>\n",
       "      <th>Constituency</th>\n",
       "      <th>Region</th>\n",
       "      <th>Party Abbreviation</th>\n",
       "      <th>Party</th>\n",
       "      <th>Candidate Votes</th>\n",
       "      <th>Share of Vote</th>\n",
       "      <th>Total constituency votes</th>\n",
       "      <th>Majority Party</th>\n",
       "      <th>Majority</th>\n",
       "      <th>Majority %</th>\n",
       "    </tr>\n",
       "  </thead>\n",
       "  <tbody>\n",
       "    <tr>\n",
       "      <th>1346</th>\n",
       "      <td>2017</td>\n",
       "      <td>E14000794</td>\n",
       "      <td>Liverpool, Walton</td>\n",
       "      <td>North West</td>\n",
       "      <td>Lab</td>\n",
       "      <td>Labour</td>\n",
       "      <td>36175</td>\n",
       "      <td>0.857288</td>\n",
       "      <td>42197.0</td>\n",
       "      <td>Lab</td>\n",
       "      <td>32551.0</td>\n",
       "      <td>0.771406</td>\n",
       "    </tr>\n",
       "    <tr>\n",
       "      <th>1249</th>\n",
       "      <td>2017</td>\n",
       "      <td>E14000775</td>\n",
       "      <td>Knowsley</td>\n",
       "      <td>North West</td>\n",
       "      <td>Lab</td>\n",
       "      <td>Labour</td>\n",
       "      <td>47351</td>\n",
       "      <td>0.853433</td>\n",
       "      <td>55483.0</td>\n",
       "      <td>Lab</td>\n",
       "      <td>42214.0</td>\n",
       "      <td>0.760846</td>\n",
       "    </tr>\n",
       "    <tr>\n",
       "      <th>1342</th>\n",
       "      <td>2017</td>\n",
       "      <td>E14000793</td>\n",
       "      <td>Liverpool, Riverside</td>\n",
       "      <td>North West</td>\n",
       "      <td>Lab</td>\n",
       "      <td>Labour</td>\n",
       "      <td>40599</td>\n",
       "      <td>0.845460</td>\n",
       "      <td>48020.0</td>\n",
       "      <td>Lab</td>\n",
       "      <td>35947.0</td>\n",
       "      <td>0.748584</td>\n",
       "    </tr>\n",
       "    <tr>\n",
       "      <th>1356</th>\n",
       "      <td>2017</td>\n",
       "      <td>E14000796</td>\n",
       "      <td>Liverpool, West Derby</td>\n",
       "      <td>North West</td>\n",
       "      <td>Lab</td>\n",
       "      <td>Labour</td>\n",
       "      <td>37371</td>\n",
       "      <td>0.833096</td>\n",
       "      <td>44858.0</td>\n",
       "      <td>Lab</td>\n",
       "      <td>32908.0</td>\n",
       "      <td>0.733604</td>\n",
       "    </tr>\n",
       "    <tr>\n",
       "      <th>4846</th>\n",
       "      <td>2015</td>\n",
       "      <td>E14000794</td>\n",
       "      <td>Liverpool, Walton</td>\n",
       "      <td>North West</td>\n",
       "      <td>Lab</td>\n",
       "      <td>Labour</td>\n",
       "      <td>31222</td>\n",
       "      <td>0.813009</td>\n",
       "      <td>38403.0</td>\n",
       "      <td>Lab</td>\n",
       "      <td>27777.0</td>\n",
       "      <td>0.723303</td>\n",
       "    </tr>\n",
       "  </tbody>\n",
       "</table>\n",
       "</div>"
      ],
      "text/plain": [
       "      Year       Code           Constituency      Region Party Abbreviation  \\\n",
       "1346  2017  E14000794      Liverpool, Walton  North West                Lab   \n",
       "1249  2017  E14000775               Knowsley  North West                Lab   \n",
       "1342  2017  E14000793   Liverpool, Riverside  North West                Lab   \n",
       "1356  2017  E14000796  Liverpool, West Derby  North West                Lab   \n",
       "4846  2015  E14000794      Liverpool, Walton  North West                Lab   \n",
       "\n",
       "       Party  Candidate Votes  Share of Vote  Total constituency votes  \\\n",
       "1346  Labour            36175       0.857288                   42197.0   \n",
       "1249  Labour            47351       0.853433                   55483.0   \n",
       "1342  Labour            40599       0.845460                   48020.0   \n",
       "1356  Labour            37371       0.833096                   44858.0   \n",
       "4846  Labour            31222       0.813009                   38403.0   \n",
       "\n",
       "     Majority Party  Majority  Majority %  \n",
       "1346            Lab   32551.0    0.771406  \n",
       "1249            Lab   42214.0    0.760846  \n",
       "1342            Lab   35947.0    0.748584  \n",
       "1356            Lab   32908.0    0.733604  \n",
       "4846            Lab   27777.0    0.723303  "
      ]
     },
     "execution_count": 7,
     "metadata": {},
     "output_type": "execute_result"
    }
   ],
   "source": [
    "uk_ge.sort_values('Majority %', ascending=False)[0:5]"
   ]
  },
  {
   "cell_type": "markdown",
   "metadata": {
    "slideshow": {
     "slide_type": "slide"
    }
   },
   "source": [
    "# Boolean operators give us series where conditions are true: "
   ]
  },
  {
   "cell_type": "code",
   "execution_count": 8,
   "metadata": {
    "collapsed": false,
    "slideshow": {
     "slide_type": "fragment"
    }
   },
   "outputs": [
    {
     "data": {
      "text/plain": [
       "0    False\n",
       "1    False\n",
       "2    False\n",
       "3    False\n",
       "4    False\n",
       "Name: Year, dtype: bool"
      ]
     },
     "execution_count": 8,
     "metadata": {},
     "output_type": "execute_result"
    }
   ],
   "source": [
    "ge_2015 = uk_ge['Year'] == 2015\n",
    "ge_2015[0:5]"
   ]
  },
  {
   "cell_type": "markdown",
   "metadata": {
    "slideshow": {
     "slide_type": "slide"
    }
   },
   "source": [
    "# We can use series of booleans to filter data:"
   ]
  },
  {
   "cell_type": "code",
   "execution_count": 9,
   "metadata": {
    "collapsed": false,
    "slideshow": {
     "slide_type": "fragment"
    }
   },
   "outputs": [
    {
     "data": {
      "text/html": [
       "<div>\n",
       "<table border=\"1\" class=\"dataframe\">\n",
       "  <thead>\n",
       "    <tr style=\"text-align: right;\">\n",
       "      <th></th>\n",
       "      <th>Year</th>\n",
       "      <th>Code</th>\n",
       "      <th>Constituency</th>\n",
       "      <th>Region</th>\n",
       "      <th>Party Abbreviation</th>\n",
       "      <th>Party</th>\n",
       "      <th>Candidate Votes</th>\n",
       "      <th>Share of Vote</th>\n",
       "      <th>Total constituency votes</th>\n",
       "      <th>Majority Party</th>\n",
       "      <th>Majority</th>\n",
       "      <th>Majority %</th>\n",
       "    </tr>\n",
       "  </thead>\n",
       "  <tbody>\n",
       "    <tr>\n",
       "      <th>3251</th>\n",
       "      <td>2015</td>\n",
       "      <td>E14000530</td>\n",
       "      <td>Aldershot</td>\n",
       "      <td>South East</td>\n",
       "      <td>C</td>\n",
       "      <td>Conservative</td>\n",
       "      <td>23369</td>\n",
       "      <td>0.505921</td>\n",
       "      <td>46191.0</td>\n",
       "      <td>C</td>\n",
       "      <td>14901.0</td>\n",
       "      <td>0.322595</td>\n",
       "    </tr>\n",
       "    <tr>\n",
       "      <th>3252</th>\n",
       "      <td>2015</td>\n",
       "      <td>E14000530</td>\n",
       "      <td>Aldershot</td>\n",
       "      <td>South East</td>\n",
       "      <td>Lab</td>\n",
       "      <td>Labour</td>\n",
       "      <td>8468</td>\n",
       "      <td>0.183326</td>\n",
       "      <td>NaN</td>\n",
       "      <td>NaN</td>\n",
       "      <td>NaN</td>\n",
       "      <td>NaN</td>\n",
       "    </tr>\n",
       "    <tr>\n",
       "      <th>3253</th>\n",
       "      <td>2015</td>\n",
       "      <td>E14000530</td>\n",
       "      <td>Aldershot</td>\n",
       "      <td>South East</td>\n",
       "      <td>UKIP</td>\n",
       "      <td>UKIP</td>\n",
       "      <td>8253</td>\n",
       "      <td>0.178671</td>\n",
       "      <td>NaN</td>\n",
       "      <td>NaN</td>\n",
       "      <td>NaN</td>\n",
       "      <td>NaN</td>\n",
       "    </tr>\n",
       "    <tr>\n",
       "      <th>3254</th>\n",
       "      <td>2015</td>\n",
       "      <td>E14000530</td>\n",
       "      <td>Aldershot</td>\n",
       "      <td>South East</td>\n",
       "      <td>LD</td>\n",
       "      <td>Lib Dem</td>\n",
       "      <td>4076</td>\n",
       "      <td>0.088242</td>\n",
       "      <td>NaN</td>\n",
       "      <td>NaN</td>\n",
       "      <td>NaN</td>\n",
       "      <td>NaN</td>\n",
       "    </tr>\n",
       "    <tr>\n",
       "      <th>3255</th>\n",
       "      <td>2015</td>\n",
       "      <td>E14000530</td>\n",
       "      <td>Aldershot</td>\n",
       "      <td>South East</td>\n",
       "      <td>Green</td>\n",
       "      <td>Green</td>\n",
       "      <td>2025</td>\n",
       "      <td>0.043840</td>\n",
       "      <td>NaN</td>\n",
       "      <td>NaN</td>\n",
       "      <td>NaN</td>\n",
       "      <td>NaN</td>\n",
       "    </tr>\n",
       "  </tbody>\n",
       "</table>\n",
       "</div>"
      ],
      "text/plain": [
       "      Year       Code Constituency      Region Party Abbreviation  \\\n",
       "3251  2015  E14000530    Aldershot  South East                  C   \n",
       "3252  2015  E14000530    Aldershot  South East                Lab   \n",
       "3253  2015  E14000530    Aldershot  South East               UKIP   \n",
       "3254  2015  E14000530    Aldershot  South East                 LD   \n",
       "3255  2015  E14000530    Aldershot  South East              Green   \n",
       "\n",
       "             Party  Candidate Votes  Share of Vote  Total constituency votes  \\\n",
       "3251  Conservative            23369       0.505921                   46191.0   \n",
       "3252        Labour             8468       0.183326                       NaN   \n",
       "3253          UKIP             8253       0.178671                       NaN   \n",
       "3254       Lib Dem             4076       0.088242                       NaN   \n",
       "3255         Green             2025       0.043840                       NaN   \n",
       "\n",
       "     Majority Party  Majority  Majority %  \n",
       "3251              C   14901.0    0.322595  \n",
       "3252            NaN       NaN         NaN  \n",
       "3253            NaN       NaN         NaN  \n",
       "3254            NaN       NaN         NaN  \n",
       "3255            NaN       NaN         NaN  "
      ]
     },
     "execution_count": 9,
     "metadata": {},
     "output_type": "execute_result"
    }
   ],
   "source": [
    "uk_ge[ge_2015][0:5]"
   ]
  },
  {
   "cell_type": "markdown",
   "metadata": {
    "slideshow": {
     "slide_type": "slide"
    }
   },
   "source": [
    "# Filtering text data is a bit more fiddly:"
   ]
  },
  {
   "cell_type": "code",
   "execution_count": 10,
   "metadata": {
    "collapsed": false,
    "slideshow": {
     "slide_type": "fragment"
    }
   },
   "outputs": [
    {
     "data": {
      "text/plain": [
       "0    False\n",
       "1    False\n",
       "2     True\n",
       "3    False\n",
       "4    False\n",
       "Name: Party, dtype: bool"
      ]
     },
     "execution_count": 10,
     "metadata": {},
     "output_type": "execute_result"
    }
   ],
   "source": [
    "lib_dems = uk_ge['Party'].str.match('Lib Dem')\n",
    "lib_dems[0:5]"
   ]
  },
  {
   "cell_type": "markdown",
   "metadata": {
    "slideshow": {
     "slide_type": "slide"
    }
   },
   "source": [
    "# (Only rows with Lib Dem results.)"
   ]
  },
  {
   "cell_type": "code",
   "execution_count": 11,
   "metadata": {
    "collapsed": false,
    "slideshow": {
     "slide_type": "fragment"
    }
   },
   "outputs": [
    {
     "data": {
      "text/html": [
       "<div>\n",
       "<table border=\"1\" class=\"dataframe\">\n",
       "  <thead>\n",
       "    <tr style=\"text-align: right;\">\n",
       "      <th></th>\n",
       "      <th>Year</th>\n",
       "      <th>Code</th>\n",
       "      <th>Constituency</th>\n",
       "      <th>Region</th>\n",
       "      <th>Party Abbreviation</th>\n",
       "      <th>Party</th>\n",
       "      <th>Candidate Votes</th>\n",
       "      <th>Share of Vote</th>\n",
       "      <th>Total constituency votes</th>\n",
       "      <th>Majority Party</th>\n",
       "      <th>Majority</th>\n",
       "      <th>Majority %</th>\n",
       "    </tr>\n",
       "  </thead>\n",
       "  <tbody>\n",
       "    <tr>\n",
       "      <th>2</th>\n",
       "      <td>2017</td>\n",
       "      <td>E14000530</td>\n",
       "      <td>Aldershot</td>\n",
       "      <td>South East</td>\n",
       "      <td>LD</td>\n",
       "      <td>Lib Dem</td>\n",
       "      <td>3637</td>\n",
       "      <td>0.074293</td>\n",
       "      <td>NaN</td>\n",
       "      <td>NaN</td>\n",
       "      <td>NaN</td>\n",
       "      <td>NaN</td>\n",
       "    </tr>\n",
       "    <tr>\n",
       "      <th>7</th>\n",
       "      <td>2017</td>\n",
       "      <td>E14000531</td>\n",
       "      <td>Aldridge-Brownhills</td>\n",
       "      <td>West Midlands</td>\n",
       "      <td>LD</td>\n",
       "      <td>Lib Dem</td>\n",
       "      <td>1343</td>\n",
       "      <td>0.033379</td>\n",
       "      <td>NaN</td>\n",
       "      <td>NaN</td>\n",
       "      <td>NaN</td>\n",
       "      <td>NaN</td>\n",
       "    </tr>\n",
       "    <tr>\n",
       "      <th>11</th>\n",
       "      <td>2017</td>\n",
       "      <td>E14000532</td>\n",
       "      <td>Altrincham and Sale West</td>\n",
       "      <td>North West</td>\n",
       "      <td>LD</td>\n",
       "      <td>Lib Dem</td>\n",
       "      <td>4051</td>\n",
       "      <td>0.076738</td>\n",
       "      <td>NaN</td>\n",
       "      <td>NaN</td>\n",
       "      <td>NaN</td>\n",
       "      <td>NaN</td>\n",
       "    </tr>\n",
       "    <tr>\n",
       "      <th>16</th>\n",
       "      <td>2017</td>\n",
       "      <td>E14000533</td>\n",
       "      <td>Amber Valley</td>\n",
       "      <td>East Midlands</td>\n",
       "      <td>LD</td>\n",
       "      <td>Lib Dem</td>\n",
       "      <td>1100</td>\n",
       "      <td>0.024012</td>\n",
       "      <td>NaN</td>\n",
       "      <td>NaN</td>\n",
       "      <td>NaN</td>\n",
       "      <td>NaN</td>\n",
       "    </tr>\n",
       "    <tr>\n",
       "      <th>21</th>\n",
       "      <td>2017</td>\n",
       "      <td>E14000534</td>\n",
       "      <td>Arundel and South Downs</td>\n",
       "      <td>South East</td>\n",
       "      <td>LD</td>\n",
       "      <td>Lib Dem</td>\n",
       "      <td>4783</td>\n",
       "      <td>0.079378</td>\n",
       "      <td>NaN</td>\n",
       "      <td>NaN</td>\n",
       "      <td>NaN</td>\n",
       "      <td>NaN</td>\n",
       "    </tr>\n",
       "  </tbody>\n",
       "</table>\n",
       "</div>"
      ],
      "text/plain": [
       "    Year       Code              Constituency         Region  \\\n",
       "2   2017  E14000530                 Aldershot     South East   \n",
       "7   2017  E14000531       Aldridge-Brownhills  West Midlands   \n",
       "11  2017  E14000532  Altrincham and Sale West     North West   \n",
       "16  2017  E14000533              Amber Valley  East Midlands   \n",
       "21  2017  E14000534   Arundel and South Downs     South East   \n",
       "\n",
       "   Party Abbreviation    Party  Candidate Votes  Share of Vote  \\\n",
       "2                  LD  Lib Dem             3637       0.074293   \n",
       "7                  LD  Lib Dem             1343       0.033379   \n",
       "11                 LD  Lib Dem             4051       0.076738   \n",
       "16                 LD  Lib Dem             1100       0.024012   \n",
       "21                 LD  Lib Dem             4783       0.079378   \n",
       "\n",
       "    Total constituency votes Majority Party  Majority  Majority %  \n",
       "2                        NaN            NaN       NaN         NaN  \n",
       "7                        NaN            NaN       NaN         NaN  \n",
       "11                       NaN            NaN       NaN         NaN  \n",
       "16                       NaN            NaN       NaN         NaN  \n",
       "21                       NaN            NaN       NaN         NaN  "
      ]
     },
     "execution_count": 11,
     "metadata": {},
     "output_type": "execute_result"
    }
   ],
   "source": [
    "uk_ge[lib_dems][0:5]"
   ]
  },
  {
   "cell_type": "markdown",
   "metadata": {
    "slideshow": {
     "slide_type": "slide"
    }
   },
   "source": [
    "# Dropping the \"NaN\" rows gives us only winning parties:"
   ]
  },
  {
   "cell_type": "code",
   "execution_count": 12,
   "metadata": {
    "collapsed": false,
    "slideshow": {
     "slide_type": "fragment"
    }
   },
   "outputs": [
    {
     "data": {
      "text/html": [
       "<div>\n",
       "<table border=\"1\" class=\"dataframe\">\n",
       "  <thead>\n",
       "    <tr style=\"text-align: right;\">\n",
       "      <th></th>\n",
       "      <th>Year</th>\n",
       "      <th>Code</th>\n",
       "      <th>Constituency</th>\n",
       "      <th>Region</th>\n",
       "      <th>Party Abbreviation</th>\n",
       "      <th>Party</th>\n",
       "      <th>Candidate Votes</th>\n",
       "      <th>Share of Vote</th>\n",
       "      <th>Total constituency votes</th>\n",
       "      <th>Majority Party</th>\n",
       "      <th>Majority</th>\n",
       "      <th>Majority %</th>\n",
       "    </tr>\n",
       "  </thead>\n",
       "  <tbody>\n",
       "    <tr>\n",
       "      <th>0</th>\n",
       "      <td>2017</td>\n",
       "      <td>E14000530</td>\n",
       "      <td>Aldershot</td>\n",
       "      <td>South East</td>\n",
       "      <td>C</td>\n",
       "      <td>Conservative</td>\n",
       "      <td>26955</td>\n",
       "      <td>0.550608</td>\n",
       "      <td>48955.0</td>\n",
       "      <td>C</td>\n",
       "      <td>11478.0</td>\n",
       "      <td>0.234460</td>\n",
       "    </tr>\n",
       "    <tr>\n",
       "      <th>5</th>\n",
       "      <td>2017</td>\n",
       "      <td>E14000531</td>\n",
       "      <td>Aldridge-Brownhills</td>\n",
       "      <td>West Midlands</td>\n",
       "      <td>C</td>\n",
       "      <td>Conservative</td>\n",
       "      <td>26317</td>\n",
       "      <td>0.654082</td>\n",
       "      <td>40235.0</td>\n",
       "      <td>C</td>\n",
       "      <td>14307.0</td>\n",
       "      <td>0.355586</td>\n",
       "    </tr>\n",
       "    <tr>\n",
       "      <th>9</th>\n",
       "      <td>2017</td>\n",
       "      <td>E14000532</td>\n",
       "      <td>Altrincham and Sale West</td>\n",
       "      <td>North West</td>\n",
       "      <td>C</td>\n",
       "      <td>Conservative</td>\n",
       "      <td>26933</td>\n",
       "      <td>0.510191</td>\n",
       "      <td>52790.0</td>\n",
       "      <td>C</td>\n",
       "      <td>6426.0</td>\n",
       "      <td>0.121728</td>\n",
       "    </tr>\n",
       "    <tr>\n",
       "      <th>14</th>\n",
       "      <td>2017</td>\n",
       "      <td>E14000533</td>\n",
       "      <td>Amber Valley</td>\n",
       "      <td>East Midlands</td>\n",
       "      <td>C</td>\n",
       "      <td>Conservative</td>\n",
       "      <td>25905</td>\n",
       "      <td>0.565476</td>\n",
       "      <td>45811.0</td>\n",
       "      <td>C</td>\n",
       "      <td>8300.0</td>\n",
       "      <td>0.181179</td>\n",
       "    </tr>\n",
       "    <tr>\n",
       "      <th>19</th>\n",
       "      <td>2017</td>\n",
       "      <td>E14000534</td>\n",
       "      <td>Arundel and South Downs</td>\n",
       "      <td>South East</td>\n",
       "      <td>C</td>\n",
       "      <td>Conservative</td>\n",
       "      <td>37573</td>\n",
       "      <td>0.623556</td>\n",
       "      <td>60256.0</td>\n",
       "      <td>C</td>\n",
       "      <td>23883.0</td>\n",
       "      <td>0.396359</td>\n",
       "    </tr>\n",
       "  </tbody>\n",
       "</table>\n",
       "</div>"
      ],
      "text/plain": [
       "    Year       Code              Constituency         Region  \\\n",
       "0   2017  E14000530                 Aldershot     South East   \n",
       "5   2017  E14000531       Aldridge-Brownhills  West Midlands   \n",
       "9   2017  E14000532  Altrincham and Sale West     North West   \n",
       "14  2017  E14000533              Amber Valley  East Midlands   \n",
       "19  2017  E14000534   Arundel and South Downs     South East   \n",
       "\n",
       "   Party Abbreviation         Party  Candidate Votes  Share of Vote  \\\n",
       "0                   C  Conservative            26955       0.550608   \n",
       "5                   C  Conservative            26317       0.654082   \n",
       "9                   C  Conservative            26933       0.510191   \n",
       "14                  C  Conservative            25905       0.565476   \n",
       "19                  C  Conservative            37573       0.623556   \n",
       "\n",
       "    Total constituency votes Majority Party  Majority  Majority %  \n",
       "0                    48955.0              C   11478.0    0.234460  \n",
       "5                    40235.0              C   14307.0    0.355586  \n",
       "9                    52790.0              C    6426.0    0.121728  \n",
       "14                   45811.0              C    8300.0    0.181179  \n",
       "19                   60256.0              C   23883.0    0.396359  "
      ]
     },
     "execution_count": 12,
     "metadata": {},
     "output_type": "execute_result"
    }
   ],
   "source": [
    "ge_wins = uk_ge.dropna(axis=0)\n",
    "ge_wins[0:5]"
   ]
  },
  {
   "cell_type": "markdown",
   "metadata": {
    "slideshow": {
     "slide_type": "slide"
    }
   },
   "source": [
    "# We can combine lists of booleans to filter multiple columns:"
   ]
  },
  {
   "cell_type": "code",
   "execution_count": 13,
   "metadata": {
    "collapsed": false,
    "slideshow": {
     "slide_type": "fragment"
    }
   },
   "outputs": [
    {
     "data": {
      "text/html": [
       "<div>\n",
       "<table border=\"1\" class=\"dataframe\">\n",
       "  <thead>\n",
       "    <tr style=\"text-align: right;\">\n",
       "      <th></th>\n",
       "      <th>Year</th>\n",
       "      <th>Code</th>\n",
       "      <th>Constituency</th>\n",
       "      <th>Region</th>\n",
       "      <th>Party Abbreviation</th>\n",
       "      <th>Party</th>\n",
       "      <th>Candidate Votes</th>\n",
       "      <th>Share of Vote</th>\n",
       "      <th>Total constituency votes</th>\n",
       "      <th>Majority Party</th>\n",
       "      <th>Majority</th>\n",
       "      <th>Majority %</th>\n",
       "    </tr>\n",
       "  </thead>\n",
       "  <tbody>\n",
       "    <tr>\n",
       "      <th>89</th>\n",
       "      <td>2017</td>\n",
       "      <td>E14000547</td>\n",
       "      <td>Bath</td>\n",
       "      <td>South West</td>\n",
       "      <td>LD</td>\n",
       "      <td>Lib Dem</td>\n",
       "      <td>23436</td>\n",
       "      <td>0.472672</td>\n",
       "      <td>49582.0</td>\n",
       "      <td>LD</td>\n",
       "      <td>5694.0</td>\n",
       "      <td>0.114840</td>\n",
       "    </tr>\n",
       "    <tr>\n",
       "      <th>449</th>\n",
       "      <td>2017</td>\n",
       "      <td>E14000621</td>\n",
       "      <td>Carshalton and Wallington</td>\n",
       "      <td>London</td>\n",
       "      <td>LD</td>\n",
       "      <td>Lib Dem</td>\n",
       "      <td>20819</td>\n",
       "      <td>0.410202</td>\n",
       "      <td>50753.0</td>\n",
       "      <td>LD</td>\n",
       "      <td>1369.0</td>\n",
       "      <td>0.026974</td>\n",
       "    </tr>\n",
       "    <tr>\n",
       "      <th>776</th>\n",
       "      <td>2017</td>\n",
       "      <td>E14000684</td>\n",
       "      <td>Eastbourne</td>\n",
       "      <td>South East</td>\n",
       "      <td>LD</td>\n",
       "      <td>Lib Dem</td>\n",
       "      <td>26924</td>\n",
       "      <td>0.468896</td>\n",
       "      <td>57420.0</td>\n",
       "      <td>LD</td>\n",
       "      <td>1609.0</td>\n",
       "      <td>0.028022</td>\n",
       "    </tr>\n",
       "    <tr>\n",
       "      <th>1221</th>\n",
       "      <td>2017</td>\n",
       "      <td>E14000770</td>\n",
       "      <td>Kingston and Surbiton</td>\n",
       "      <td>London</td>\n",
       "      <td>LD</td>\n",
       "      <td>Lib Dem</td>\n",
       "      <td>27810</td>\n",
       "      <td>0.447264</td>\n",
       "      <td>62178.0</td>\n",
       "      <td>LD</td>\n",
       "      <td>4124.0</td>\n",
       "      <td>0.066326</td>\n",
       "    </tr>\n",
       "    <tr>\n",
       "      <th>1613</th>\n",
       "      <td>2017</td>\n",
       "      <td>E14000848</td>\n",
       "      <td>North Norfolk</td>\n",
       "      <td>East</td>\n",
       "      <td>LD</td>\n",
       "      <td>Lib Dem</td>\n",
       "      <td>25260</td>\n",
       "      <td>0.484019</td>\n",
       "      <td>52188.0</td>\n",
       "      <td>LD</td>\n",
       "      <td>3512.0</td>\n",
       "      <td>0.067295</td>\n",
       "    </tr>\n",
       "  </tbody>\n",
       "</table>\n",
       "</div>"
      ],
      "text/plain": [
       "      Year       Code               Constituency      Region  \\\n",
       "89    2017  E14000547                       Bath  South West   \n",
       "449   2017  E14000621  Carshalton and Wallington      London   \n",
       "776   2017  E14000684                 Eastbourne  South East   \n",
       "1221  2017  E14000770      Kingston and Surbiton      London   \n",
       "1613  2017  E14000848              North Norfolk        East   \n",
       "\n",
       "     Party Abbreviation    Party  Candidate Votes  Share of Vote  \\\n",
       "89                   LD  Lib Dem            23436       0.472672   \n",
       "449                  LD  Lib Dem            20819       0.410202   \n",
       "776                  LD  Lib Dem            26924       0.468896   \n",
       "1221                 LD  Lib Dem            27810       0.447264   \n",
       "1613                 LD  Lib Dem            25260       0.484019   \n",
       "\n",
       "      Total constituency votes Majority Party  Majority  Majority %  \n",
       "89                     49582.0             LD    5694.0    0.114840  \n",
       "449                    50753.0             LD    1369.0    0.026974  \n",
       "776                    57420.0             LD    1609.0    0.028022  \n",
       "1221                   62178.0             LD    4124.0    0.066326  \n",
       "1613                   52188.0             LD    3512.0    0.067295  "
      ]
     },
     "execution_count": 13,
     "metadata": {},
     "output_type": "execute_result"
    }
   ],
   "source": [
    "lib_dem_wins = ge_wins['Party'].str.match('Lib Dem')\n",
    "wins_2017 = ge_wins['Year'] == 2017\n",
    "ge_wins[lib_dem_wins & wins_2017][0:5]"
   ]
  },
  {
   "cell_type": "markdown",
   "metadata": {
    "slideshow": {
     "slide_type": "slide"
    }
   },
   "source": [
    "# We can use \"groupby\" and \"aggregate\" a bit like SQL:"
   ]
  },
  {
   "cell_type": "code",
   "execution_count": 14,
   "metadata": {
    "collapsed": false,
    "slideshow": {
     "slide_type": "fragment"
    }
   },
   "outputs": [
    {
     "data": {
      "text/html": [
       "<div>\n",
       "<table border=\"1\" class=\"dataframe\">\n",
       "  <thead>\n",
       "    <tr style=\"text-align: right;\">\n",
       "      <th></th>\n",
       "      <th>Party</th>\n",
       "    </tr>\n",
       "    <tr>\n",
       "      <th>Party</th>\n",
       "      <th></th>\n",
       "    </tr>\n",
       "  </thead>\n",
       "  <tbody>\n",
       "    <tr>\n",
       "      <th>Conservative</th>\n",
       "      <td>318</td>\n",
       "    </tr>\n",
       "    <tr>\n",
       "      <th>Democratic Unionist Party</th>\n",
       "      <td>10</td>\n",
       "    </tr>\n",
       "    <tr>\n",
       "      <th>Green</th>\n",
       "      <td>1</td>\n",
       "    </tr>\n",
       "    <tr>\n",
       "      <th>Independent</th>\n",
       "      <td>1</td>\n",
       "    </tr>\n",
       "    <tr>\n",
       "      <th>Labour</th>\n",
       "      <td>261</td>\n",
       "    </tr>\n",
       "    <tr>\n",
       "      <th>Lib Dem</th>\n",
       "      <td>12</td>\n",
       "    </tr>\n",
       "    <tr>\n",
       "      <th>Plaid Cymru</th>\n",
       "      <td>4</td>\n",
       "    </tr>\n",
       "    <tr>\n",
       "      <th>Scottish National Party</th>\n",
       "      <td>35</td>\n",
       "    </tr>\n",
       "    <tr>\n",
       "      <th>Sinn Fein</th>\n",
       "      <td>7</td>\n",
       "    </tr>\n",
       "    <tr>\n",
       "      <th>Speaker</th>\n",
       "      <td>1</td>\n",
       "    </tr>\n",
       "  </tbody>\n",
       "</table>\n",
       "</div>"
      ],
      "text/plain": [
       "                           Party\n",
       "Party                           \n",
       "Conservative                 318\n",
       "Democratic Unionist Party     10\n",
       "Green                          1\n",
       "Independent                    1\n",
       "Labour                       261\n",
       "Lib Dem                       12\n",
       "Plaid Cymru                    4\n",
       "Scottish National Party       35\n",
       "Sinn Fein                      7\n",
       "Speaker                        1"
      ]
     },
     "execution_count": 14,
     "metadata": {},
     "output_type": "execute_result"
    }
   ],
   "source": [
    "ge_wins[wins_2017].groupby('Party').aggregate({'Party':'count'})"
   ]
  },
  {
   "cell_type": "markdown",
   "metadata": {
    "slideshow": {
     "slide_type": "slide"
    }
   },
   "source": [
    "# It's easy to perform operations on entire columns."
   ]
  },
  {
   "cell_type": "code",
   "execution_count": 15,
   "metadata": {
    "collapsed": false,
    "slideshow": {
     "slide_type": "fragment"
    }
   },
   "outputs": [
    {
     "data": {
      "text/plain": [
       "0     23.446022\n",
       "5     35.558593\n",
       "9     12.172760\n",
       "14    18.117919\n",
       "19    39.635887\n",
       "Name: Majority %, dtype: float64"
      ]
     },
     "execution_count": 15,
     "metadata": {},
     "output_type": "execute_result"
    }
   ],
   "source": [
    "(ge_wins['Majority %'] * 100)[0:5]"
   ]
  },
  {
   "cell_type": "markdown",
   "metadata": {
    "slideshow": {
     "slide_type": "slide"
    }
   },
   "source": [
    "# (Let's fix the percentage column.)"
   ]
  },
  {
   "cell_type": "code",
   "execution_count": 16,
   "metadata": {
    "collapsed": false,
    "slideshow": {
     "slide_type": "fragment"
    }
   },
   "outputs": [
    {
     "data": {
      "text/html": [
       "<div>\n",
       "<table border=\"1\" class=\"dataframe\">\n",
       "  <thead>\n",
       "    <tr style=\"text-align: right;\">\n",
       "      <th></th>\n",
       "      <th>Year</th>\n",
       "      <th>Code</th>\n",
       "      <th>Constituency</th>\n",
       "      <th>Region</th>\n",
       "      <th>Party Abbreviation</th>\n",
       "      <th>Party</th>\n",
       "      <th>Candidate Votes</th>\n",
       "      <th>Share of Vote</th>\n",
       "      <th>Total constituency votes</th>\n",
       "      <th>Majority Party</th>\n",
       "      <th>Majority</th>\n",
       "      <th>Majority %</th>\n",
       "    </tr>\n",
       "  </thead>\n",
       "  <tbody>\n",
       "    <tr>\n",
       "      <th>0</th>\n",
       "      <td>2017</td>\n",
       "      <td>E14000530</td>\n",
       "      <td>Aldershot</td>\n",
       "      <td>South East</td>\n",
       "      <td>C</td>\n",
       "      <td>Conservative</td>\n",
       "      <td>26955</td>\n",
       "      <td>0.550608</td>\n",
       "      <td>48955.0</td>\n",
       "      <td>C</td>\n",
       "      <td>11478.0</td>\n",
       "      <td>23</td>\n",
       "    </tr>\n",
       "    <tr>\n",
       "      <th>5</th>\n",
       "      <td>2017</td>\n",
       "      <td>E14000531</td>\n",
       "      <td>Aldridge-Brownhills</td>\n",
       "      <td>West Midlands</td>\n",
       "      <td>C</td>\n",
       "      <td>Conservative</td>\n",
       "      <td>26317</td>\n",
       "      <td>0.654082</td>\n",
       "      <td>40235.0</td>\n",
       "      <td>C</td>\n",
       "      <td>14307.0</td>\n",
       "      <td>35</td>\n",
       "    </tr>\n",
       "    <tr>\n",
       "      <th>9</th>\n",
       "      <td>2017</td>\n",
       "      <td>E14000532</td>\n",
       "      <td>Altrincham and Sale West</td>\n",
       "      <td>North West</td>\n",
       "      <td>C</td>\n",
       "      <td>Conservative</td>\n",
       "      <td>26933</td>\n",
       "      <td>0.510191</td>\n",
       "      <td>52790.0</td>\n",
       "      <td>C</td>\n",
       "      <td>6426.0</td>\n",
       "      <td>12</td>\n",
       "    </tr>\n",
       "    <tr>\n",
       "      <th>14</th>\n",
       "      <td>2017</td>\n",
       "      <td>E14000533</td>\n",
       "      <td>Amber Valley</td>\n",
       "      <td>East Midlands</td>\n",
       "      <td>C</td>\n",
       "      <td>Conservative</td>\n",
       "      <td>25905</td>\n",
       "      <td>0.565476</td>\n",
       "      <td>45811.0</td>\n",
       "      <td>C</td>\n",
       "      <td>8300.0</td>\n",
       "      <td>18</td>\n",
       "    </tr>\n",
       "    <tr>\n",
       "      <th>19</th>\n",
       "      <td>2017</td>\n",
       "      <td>E14000534</td>\n",
       "      <td>Arundel and South Downs</td>\n",
       "      <td>South East</td>\n",
       "      <td>C</td>\n",
       "      <td>Conservative</td>\n",
       "      <td>37573</td>\n",
       "      <td>0.623556</td>\n",
       "      <td>60256.0</td>\n",
       "      <td>C</td>\n",
       "      <td>23883.0</td>\n",
       "      <td>39</td>\n",
       "    </tr>\n",
       "  </tbody>\n",
       "</table>\n",
       "</div>"
      ],
      "text/plain": [
       "    Year       Code              Constituency         Region  \\\n",
       "0   2017  E14000530                 Aldershot     South East   \n",
       "5   2017  E14000531       Aldridge-Brownhills  West Midlands   \n",
       "9   2017  E14000532  Altrincham and Sale West     North West   \n",
       "14  2017  E14000533              Amber Valley  East Midlands   \n",
       "19  2017  E14000534   Arundel and South Downs     South East   \n",
       "\n",
       "   Party Abbreviation         Party  Candidate Votes  Share of Vote  \\\n",
       "0                   C  Conservative            26955       0.550608   \n",
       "5                   C  Conservative            26317       0.654082   \n",
       "9                   C  Conservative            26933       0.510191   \n",
       "14                  C  Conservative            25905       0.565476   \n",
       "19                  C  Conservative            37573       0.623556   \n",
       "\n",
       "    Total constituency votes Majority Party  Majority  Majority %  \n",
       "0                    48955.0              C   11478.0          23  \n",
       "5                    40235.0              C   14307.0          35  \n",
       "9                    52790.0              C    6426.0          12  \n",
       "14                   45811.0              C    8300.0          18  \n",
       "19                   60256.0              C   23883.0          39  "
      ]
     },
     "execution_count": 16,
     "metadata": {},
     "output_type": "execute_result"
    }
   ],
   "source": [
    "ge_majority_percentage = (ge_wins['Majority %'] * 100).astype(int)\n",
    "true_ge_wins = ge_wins.copy()\n",
    "true_ge_wins['Majority %'] = ge_majority_percentage\n",
    "true_ge_wins[0:5]"
   ]
  },
  {
   "cell_type": "markdown",
   "metadata": {
    "slideshow": {
     "slide_type": "slide"
    }
   },
   "source": [
    "# We can produce some plots with very little effort."
   ]
  },
  {
   "cell_type": "code",
   "execution_count": 17,
   "metadata": {
    "collapsed": false,
    "slideshow": {
     "slide_type": "fragment"
    }
   },
   "outputs": [
    {
     "data": {
      "text/plain": [
       "<matplotlib.axes._subplots.AxesSubplot at 0x7f904625a4e0>"
      ]
     },
     "execution_count": 17,
     "metadata": {},
     "output_type": "execute_result"
    },
    {
     "data": {
      "image/png": "[encoded data removed]",
      "text/plain": [
       "<matplotlib.figure.Figure at 0x7f904889e940>"
      ]
     },
     "metadata": {},
     "output_type": "display_data"
    }
   ],
   "source": [
    "%matplotlib inline\n",
    "true_ge_wins['Majority %'].hist()"
   ]
  },
  {
   "cell_type": "markdown",
   "metadata": {
    "slideshow": {
     "slide_type": "slide"
    }
   },
   "source": [
    "# (How safe are Labour seats?)"
   ]
  },
  {
   "cell_type": "code",
   "execution_count": 18,
   "metadata": {
    "collapsed": false,
    "slideshow": {
     "slide_type": "fragment"
    }
   },
   "outputs": [
    {
     "data": {
      "text/plain": [
       "<matplotlib.axes._subplots.AxesSubplot at 0x7f9043f7fd68>"
      ]
     },
     "execution_count": 18,
     "metadata": {},
     "output_type": "execute_result"
    },
    {
     "data": {
      "image/png": "[encoded data removed]",
      "text/plain": [
       "<matplotlib.figure.Figure at 0x7f90462ad3c8>"
      ]
     },
     "metadata": {},
     "output_type": "display_data"
    }
   ],
   "source": [
    "%matplotlib inline\n",
    "lab_wins = true_ge_wins['Party'].str.match('Labour')\n",
    "true_ge_wins[lab_wins]['Majority %'].hist()"
   ]
  },
  {
   "cell_type": "markdown",
   "metadata": {
    "slideshow": {
     "slide_type": "slide"
    }
   },
   "source": [
    "# (What about the Conservatives?)"
   ]
  },
  {
   "cell_type": "code",
   "execution_count": 19,
   "metadata": {
    "collapsed": false,
    "slideshow": {
     "slide_type": "fragment"
    }
   },
   "outputs": [
    {
     "data": {
      "text/plain": [
       "<matplotlib.axes._subplots.AxesSubplot at 0x7f9043f51cc0>"
      ]
     },
     "execution_count": 19,
     "metadata": {},
     "output_type": "execute_result"
    },
    {
     "data": {
      "image/png": "[encoded data removed]",
      "text/plain": [
       "<matplotlib.figure.Figure at 0x7f9048a5ea90>"
      ]
     },
     "metadata": {},
     "output_type": "display_data"
    }
   ],
   "source": [
    "%matplotlib inline\n",
    "con_wins = true_ge_wins['Party'].str.match('Conservative')\n",
    "true_ge_wins[con_wins]['Majority %'].hist()"
   ]
  },
  {
   "cell_type": "code",
   "execution_count": null,
   "metadata": {
    "collapsed": true
   },
   "outputs": [],
   "source": []
  }
 ],
 "metadata": {
  "celltoolbar": "Slideshow",
  "kernelspec": {
   "display_name": "Python 3",
   "language": "python",
   "name": "python3"
  },
  "language_info": {
   "codemirror_mode": {
    "name": "ipython",
    "version": 3
   },
   "file_extension": ".py",
   "mimetype": "text/x-python",
   "name": "python",
   "nbconvert_exporter": "python",
   "pygments_lexer": "ipython3",
   "version": "3.5.2"
  }
 },
 "nbformat": 4,
 "nbformat_minor": 1
}
