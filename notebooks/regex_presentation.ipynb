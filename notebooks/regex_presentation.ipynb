{
 "cells": [
  {
   "cell_type": "markdown",
   "metadata": {
    "slideshow": {
     "slide_type": "slide"
    }
   },
   "source": [
    "# Regular Expressions\n",
    "![Trial and Error](https://pbs.twimg.com/media/Cr7mS_OWcAA7Hzt.jpg)\n",
    "[@ThePracticalDev](https://twitter.com/thepracticaldev/status/774309983467016193)"
   ]
  },
  {
   "cell_type": "markdown",
   "metadata": {
    "slideshow": {
     "slide_type": "slide"
    }
   },
   "source": [
    "# The simplest regex is to just match literal text.\n",
    "# Match objects can be a bit fiddly, though."
   ]
  },
  {
   "cell_type": "code",
   "execution_count": 1,
   "metadata": {
    "collapsed": true,
    "slideshow": {
     "slide_type": "fragment"
    }
   },
   "outputs": [],
   "source": [
    "import re"
   ]
  },
  {
   "cell_type": "code",
   "execution_count": 2,
   "metadata": {
    "collapsed": false,
    "slideshow": {
     "slide_type": "fragment"
    }
   },
   "outputs": [],
   "source": [
    "pangram = \"The quick, brown fox jumps over the lazy dog.\""
   ]
  },
  {
   "cell_type": "code",
   "execution_count": 3,
   "metadata": {
    "collapsed": false,
    "slideshow": {
     "slide_type": "fragment"
    }
   },
   "outputs": [
    {
     "name": "stdout",
     "output_type": "stream",
     "text": [
      "(41, 44) dog\n"
     ]
    }
   ],
   "source": [
    "dog = re.compile('dog')\n",
    "dog_match = re.search(dog,pangram)\n",
    "print(dog_match.span(), dog_match.group(0))"
   ]
  },
  {
   "cell_type": "markdown",
   "metadata": {
    "slideshow": {
     "slide_type": "slide"
    }
   },
   "source": [
    "# \"re.findall\" is easier to use most of the time."
   ]
  },
  {
   "cell_type": "code",
   "execution_count": 4,
   "metadata": {
    "collapsed": false,
    "slideshow": {
     "slide_type": "fragment"
    }
   },
   "outputs": [
    {
     "data": {
      "text/plain": [
       "['fox']"
      ]
     },
     "execution_count": 4,
     "metadata": {},
     "output_type": "execute_result"
    }
   ],
   "source": [
    "re.findall('fox',pangram)"
   ]
  },
  {
   "cell_type": "markdown",
   "metadata": {
    "slideshow": {
     "slide_type": "slide"
    }
   },
   "source": [
    "# Character classes are very powerfull\n",
    "# What night busses can you catch from The Strand?"
   ]
  },
  {
   "cell_type": "code",
   "execution_count": 5,
   "metadata": {
    "collapsed": false,
    "slideshow": {
     "slide_type": "fragment"
    }
   },
   "outputs": [],
   "source": [
    "strand_busses = \"\"\"Southampton Street / Covent Garden. Bus routes. 6; 9; 11; 15; 23; 87; 91; 139; 176; N9; N11;\n",
    "N15; N21; N26; N44; N87; N89; N91; N155; N199; N343; N550; N551. Bus stop A. Waterloo Bridge / South Bank.\n",
    "Bus routes. 1; 4; 26; 59; 68; 76; 139; 168; 171; 172; 176; 188; 243; 341; 521; N1; N68; N171; N343; RV1; X68.\"\"\""
   ]
  },
  {
   "cell_type": "code",
   "execution_count": 6,
   "metadata": {
    "collapsed": false,
    "slideshow": {
     "slide_type": "fragment"
    }
   },
   "outputs": [
    {
     "name": "stdout",
     "output_type": "stream",
     "text": [
      "['N9', 'N1', 'N1', 'N2', 'N2', 'N4', 'N8', 'N8', 'N9', 'N1', 'N1', 'N3', 'N5', 'N5', 'N1', 'N6', 'N1', 'N3']\n"
     ]
    }
   ],
   "source": [
    "print(re.findall('N[0-9]',strand_busses))"
   ]
  },
  {
   "cell_type": "markdown",
   "metadata": {
    "slideshow": {
     "slide_type": "fragment"
    }
   },
   "source": [
    "# This doesn't quite work. We've only matched \"N\" and one digit. "
   ]
  },
  {
   "cell_type": "markdown",
   "metadata": {
    "slideshow": {
     "slide_type": "slide"
    }
   },
   "source": [
    "# \"+\" means that we match one or more digits."
   ]
  },
  {
   "cell_type": "code",
   "execution_count": 7,
   "metadata": {
    "collapsed": false,
    "slideshow": {
     "slide_type": "fragment"
    }
   },
   "outputs": [
    {
     "name": "stdout",
     "output_type": "stream",
     "text": [
      "['N9', 'N11', 'N15', 'N21', 'N26', 'N44', 'N87', 'N89', 'N91', 'N155', 'N199', 'N343', 'N550', 'N551', 'N1', 'N68', 'N171', 'N343']\n"
     ]
    }
   ],
   "source": [
    "print(re.findall('N[0-9]+',strand_busses))"
   ]
  },
  {
   "cell_type": "markdown",
   "metadata": {
    "slideshow": {
     "slide_type": "slide"
    }
   },
   "source": [
    "# \"^\" inverts the character class.\n",
    "# Match one or more digits, preceded by a character that *isn't* \"N\"."
   ]
  },
  {
   "cell_type": "code",
   "execution_count": 8,
   "metadata": {
    "collapsed": false,
    "slideshow": {
     "slide_type": "fragment"
    }
   },
   "outputs": [
    {
     "name": "stdout",
     "output_type": "stream",
     "text": [
      "[' 6', ' 9', ' 11', ' 15', ' 23', ' 87', ' 91', ' 139', ' 176', '11', '15', '21', '26', '44', '87', '89', '91', '155', '199', '343', '550', '551', ' 1', ' 4', ' 26', ' 59', ' 68', ' 76', ' 139', ' 168', ' 171', ' 172', ' 176', ' 188', ' 243', ' 341', ' 521', '68', '171', '343', 'V1', 'X68']\n"
     ]
    }
   ],
   "source": [
    "print(re.findall('[^N][0-9]+',strand_busses))"
   ]
  },
  {
   "cell_type": "markdown",
   "metadata": {
    "slideshow": {
     "slide_type": "slide"
    }
   },
   "source": [
    "# Match captilized words:"
   ]
  },
  {
   "cell_type": "code",
   "execution_count": 9,
   "metadata": {
    "collapsed": false,
    "slideshow": {
     "slide_type": "fragment"
    }
   },
   "outputs": [
    {
     "name": "stdout",
     "output_type": "stream",
     "text": [
      "['Southampton', 'Street', 'Covent', 'Garden', 'Bus', 'Bus', 'Waterloo', 'Bridge', 'South', 'Bank', 'Bus']\n"
     ]
    }
   ],
   "source": [
    "print(re.findall('[A-Z][a-z]+',strand_busses))"
   ]
  },
  {
   "cell_type": "markdown",
   "metadata": {
    "slideshow": {
     "slide_type": "slide"
    }
   },
   "source": [
    "# \"ding\" is a word, but did we want to match it? "
   ]
  },
  {
   "cell_type": "code",
   "execution_count": 10,
   "metadata": {
    "collapsed": false,
    "scrolled": true,
    "slideshow": {
     "slide_type": "fragment"
    }
   },
   "outputs": [
    {
     "name": "stdout",
     "output_type": "stream",
     "text": [
      "['bottle', 'brink', 'ding', 'drink']\n",
      "['brink', 'drink']\n"
     ]
    }
   ],
   "source": [
    "print(re.findall('[bd][a-z]+',\"Open the bottle, I'm on the brink of needing a drink!\"))\n",
    "print(re.findall('[bd]r[a-z]+',\"Open the bottle, I'm on the brink of needing a drink!\"))"
   ]
  },
  {
   "cell_type": "markdown",
   "metadata": {
    "slideshow": {
     "slide_type": "slide"
    }
   },
   "source": [
    "# \"\\s\" matches all spaces.\n",
    "# Great. We're stuck with leading spaces."
   ]
  },
  {
   "cell_type": "code",
   "execution_count": 11,
   "metadata": {
    "collapsed": false,
    "slideshow": {
     "slide_type": "fragment"
    }
   },
   "outputs": [
    {
     "name": "stdout",
     "output_type": "stream",
     "text": [
      "[' bottle', ' brink', ' drink']\n"
     ]
    }
   ],
   "source": [
    "print(re.findall('\\s[bd][a-z]+',\"Open the bottle, I'm on the brink of needing a drink!\"))"
   ]
  },
  {
   "cell_type": "markdown",
   "metadata": {
    "slideshow": {
     "slide_type": "slide"
    }
   },
   "source": [
    "# This one's complicated. \"|\" works like a boolean OR.\n",
    "# [a-z]{2} matches exactly two lowercase letters."
   ]
  },
  {
   "cell_type": "code",
   "execution_count": 12,
   "metadata": {
    "collapsed": false,
    "slideshow": {
     "slide_type": "fragment"
    }
   },
   "outputs": [
    {
     "name": "stdout",
     "output_type": "stream",
     "text": [
      "['first', 'second', '1st', '2nd', '3rd']\n"
     ]
    }
   ],
   "source": [
    "print(re.findall('first|second|third|[1-3][a-z]{2}',\"\"\"They came in first and second,\n",
    "You get a medal if you come in 1st, 2nd or 3rd place, but you only came 4th.\"\"\"))"
   ]
  },
  {
   "cell_type": "markdown",
   "metadata": {
    "slideshow": {
     "slide_type": "slide"
    }
   },
   "source": [
    "# \"\\d\" is shorthand for \"[0-9]\"."
   ]
  },
  {
   "cell_type": "code",
   "execution_count": 13,
   "metadata": {
    "collapsed": false,
    "slideshow": {
     "slide_type": "fragment"
    }
   },
   "outputs": [
    {
     "name": "stdout",
     "output_type": "stream",
     "text": [
      "['2001', '2001']\n"
     ]
    }
   ],
   "source": [
    "print(re.findall('[\\d]{4}',\"The was a screening of 2001 on 20/01 2001 at 20:01 \"))"
   ]
  },
  {
   "cell_type": "markdown",
   "metadata": {
    "slideshow": {
     "slide_type": "slide"
    }
   },
   "source": [
    "# What if you want a \"-\" in your character class?\n",
    "# -Welcome to backslash hell!\n",
    "# {3,} matches 3 or more characters belonging to the class."
   ]
  },
  {
   "cell_type": "code",
   "execution_count": 14,
   "metadata": {
    "collapsed": false,
    "slideshow": {
     "slide_type": "fragment"
    }
   },
   "outputs": [
    {
     "name": "stdout",
     "output_type": "stream",
     "text": [
      "['9-11=74']\n"
     ]
    }
   ],
   "source": [
    "print(re.findall('[0-9\\-]{3,}=[\\d]+','1+1=5, 9-11=74'))"
   ]
  },
  {
   "cell_type": "markdown",
   "metadata": {
    "slideshow": {
     "slide_type": "slide"
    }
   },
   "source": [
    "# Can we match 2 and 4-digit years?\n",
    "# [\\d]{2,4} matches 2 to 4 digits.\n",
    "# Not quite there yet!"
   ]
  },
  {
   "cell_type": "code",
   "execution_count": 15,
   "metadata": {
    "collapsed": false,
    "slideshow": {
     "slide_type": "fragment"
    }
   },
   "outputs": [
    {
     "name": "stdout",
     "output_type": "stream",
     "text": [
      "['99', '2000', '1999', '1000', '000']\n"
     ]
    }
   ],
   "source": [
    "print(re.findall('[\\d]{2,4}',\"\"\"Back in '99 and 2000, Prince's \"1999\" was played 1000000s of times\"\"\"))"
   ]
  },
  {
   "cell_type": "markdown",
   "metadata": {
    "slideshow": {
     "slide_type": "slide"
    }
   },
   "source": [
    "# A leading 1-9 fixes the match on \"000\".\n",
    "# Pity about the year 1000"
   ]
  },
  {
   "cell_type": "code",
   "execution_count": 16,
   "metadata": {
    "collapsed": false,
    "slideshow": {
     "slide_type": "fragment"
    }
   },
   "outputs": [
    {
     "name": "stdout",
     "output_type": "stream",
     "text": [
      "['99', '2000', '1999', '1000']\n"
     ]
    }
   ],
   "source": [
    "print(re.findall('[1-9][\\d]{1,3}',\"\"\"Back in '99 and 2000, Prince's \"1999\" was played 1000000s of times\"\"\"))"
   ]
  },
  {
   "cell_type": "markdown",
   "metadata": {
    "slideshow": {
     "slide_type": "slide"
    }
   },
   "source": [
    "# We make sure the match ends in a non-digit.\n",
    "# No more year 1000!\n",
    "# Pity there's all that junk at the end!"
   ]
  },
  {
   "cell_type": "code",
   "execution_count": 17,
   "metadata": {
    "collapsed": false,
    "slideshow": {
     "slide_type": "fragment"
    }
   },
   "outputs": [
    {
     "name": "stdout",
     "output_type": "stream",
     "text": [
      "['99 ', '2000,', '1999\"']\n"
     ]
    }
   ],
   "source": [
    "print(re.findall('[1-9][\\d]{1,3}[^\\d]',\"\"\"Back in '99 and 2000, Prince's \"1999\" was played 1000000s of times\"\"\"))"
   ]
  },
  {
   "cell_type": "markdown",
   "metadata": {
    "slideshow": {
     "slide_type": "slide"
    }
   },
   "source": [
    "# Finally!\n",
    "# \"(?=[^\\d])\" is a \"non-capturing look-ahead\". (Of *course* it is.)"
   ]
  },
  {
   "cell_type": "code",
   "execution_count": 18,
   "metadata": {
    "collapsed": false,
    "slideshow": {
     "slide_type": "fragment"
    }
   },
   "outputs": [
    {
     "name": "stdout",
     "output_type": "stream",
     "text": [
      "['99', '2000', '1999']\n"
     ]
    }
   ],
   "source": [
    "print(re.findall('[1-9][\\d]{1,3}(?=[^\\d])',\"\"\"Back in '99 and 2000, Prince's \"1999\" was played 1000000s of times\"\"\"))"
   ]
  },
  {
   "cell_type": "markdown",
   "metadata": {
    "slideshow": {
     "slide_type": "slide"
    }
   },
   "source": [
    "# Now we can solve the horrid leading spaces from before!\n",
    "# \"(?<=[^a-z])\" is a \"non-capturing look-ahead\". (Of *course* it is.)"
   ]
  },
  {
   "cell_type": "code",
   "execution_count": 19,
   "metadata": {
    "collapsed": false,
    "slideshow": {
     "slide_type": "fragment"
    }
   },
   "outputs": [
    {
     "name": "stdout",
     "output_type": "stream",
     "text": [
      "['bottle', 'brink', 'drink']\n"
     ]
    }
   ],
   "source": [
    "print(re.findall('(?<=[^a-z])[bd][a-z]+',\"Open the bottle, I'm on the brink of needing a drink\"))"
   ]
  },
  {
   "cell_type": "markdown",
   "metadata": {
    "collapsed": true,
    "slideshow": {
     "slide_type": "slide"
    }
   },
   "source": [
    "![Googling the Regex](https://pbs.twimg.com/media/Cn1rWcbWcAAgsCA.jpg)[@ThePracticalDev]\n",
    "[@ThePracticalDev](https://twitter.com/thepracticaldev/status/755893414890209280)"
   ]
  },
  {
   "cell_type": "code",
   "execution_count": null,
   "metadata": {
    "collapsed": true
   },
   "outputs": [],
   "source": []
  }
 ],
 "metadata": {
  "celltoolbar": "Slideshow",
  "kernelspec": {
   "display_name": "Python 3",
   "language": "python",
   "name": "python3"
  },
  "language_info": {
   "codemirror_mode": {
    "name": "ipython",
    "version": 3
   },
   "file_extension": ".py",
   "mimetype": "text/x-python",
   "name": "python",
   "nbconvert_exporter": "python",
   "pygments_lexer": "ipython3",
   "version": "3.5.2"
  }
 },
 "nbformat": 4,
 "nbformat_minor": 1
}
