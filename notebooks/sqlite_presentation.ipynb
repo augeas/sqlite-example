{
 "cells": [
  {
   "cell_type": "markdown",
   "metadata": {
    "slideshow": {
     "slide_type": "slide"
    }
   },
   "source": [
    "# In The Beginning, There Were Relational Databases...\n",
    "## (Actually in the beginning, there were graph databases.)\n",
    "![Neo4J](https://d1q6f0aelx0por.cloudfront.net/product-logos/2cd4f81a-e285-4ede-9d9f-99c2349bdd4b-neo4j.png)\n",
    "# Relational Databases date back to [Edgar F. Codd](https://en.wikipedia.org/wiki/Edgar_F._Codd) in the [1970s](https://pdfs.semanticscholar.org/7dc5/b9737e3f6b69dc896e79e28e20f8537745ba.pdf)."
   ]
  },
  {
   "cell_type": "markdown",
   "metadata": {
    "slideshow": {
     "slide_type": "slide"
    }
   },
   "source": [
    "## Relational databases are made of tables.\n",
    "## The set of table columns is called a schema.\n",
    "![tables](https://docs.oracle.com/cd/E13167_01/aldsp/docs25/xquery/wwimages/rdbms_tables_relational_wrapper_01.gif)"
   ]
  },
  {
   "cell_type": "markdown",
   "metadata": {
    "slideshow": {
     "slide_type": "slide"
    }
   },
   "source": [
    "## The standard for relational databases is Structured Query Language (SQL)\n",
    "\n",
    "## Free and Open-Source SQL Implementations:\n",
    "![SQL](http://www.mimastech.com/wp-content/uploads/2016/09/postgresql-mysql-mariadb.png)"
   ]
  },
  {
   "cell_type": "markdown",
   "metadata": {
    "slideshow": {
     "slide_type": "slide"
    }
   },
   "source": [
    "# [SQLite](https://www.sqlite.org/) is a library written in C, not a database system.\n",
    "![SQLite](https://upload.wikimedia.org/wikipedia/commons/3/38/SQLite370.svg)\n",
    "# It's included in:\n",
    "# - Most web browsers\n",
    "# - Most mobile phones\n",
    "# - Most languages, including Python"
   ]
  },
  {
   "cell_type": "markdown",
   "metadata": {
    "slideshow": {
     "slide_type": "slide"
    }
   },
   "source": [
    "## SQL isn't the only game in town...\n",
    "![Seven Databases in Seven Weeks](http://greyna.eu/portfolio/img/seven-databases-in-seven-weeks-cover.jpg)"
   ]
  },
  {
   "cell_type": "markdown",
   "metadata": {
    "slideshow": {
     "slide_type": "slide"
    }
   },
   "source": [
    "## [MongoDB is Web Scale! https://youtu.be/HdnDXsqiPYo](https://youtu.be/HdnDXsqiPYo)\n",
    "![MongoDB is Web Scale!](https://i.ytimg.com/vi/HdnDXsqiPYo/hqdefault.jpg)"
   ]
  },
  {
   "cell_type": "markdown",
   "metadata": {
    "slideshow": {
     "slide_type": "slide"
    }
   },
   "source": [
    "# Objectives:\n",
    "## - Create databases and  tables\n",
    "## - Push data into the database\n",
    "## - Query the data\n",
    "## - Filter the data"
   ]
  },
  {
   "cell_type": "code",
   "execution_count": 1,
   "metadata": {
    "collapsed": true,
    "slideshow": {
     "slide_type": "fragment"
    }
   },
   "outputs": [],
   "source": [
    "import os\n",
    "import re\n",
    "import sqlite3\n",
    "\n",
    "from bs4 import BeautifulSoup\n",
    "import requests"
   ]
  },
  {
   "cell_type": "markdown",
   "metadata": {
    "slideshow": {
     "slide_type": "slide"
    }
   },
   "source": [
    "## Scraping election data from [Wikipedia](https://en.wikipedia.org/wiki/List_of_MPs_elected_in_the_United_Kingdom_general_election,_2017):"
   ]
  },
  {
   "cell_type": "code",
   "execution_count": 2,
   "metadata": {
    "collapsed": true,
    "slideshow": {
     "slide_type": "fragment"
    }
   },
   "outputs": [],
   "source": [
    "def getWikiMPs(year):\n",
    "    url = ''.join(['https://en.wikipedia.org/wiki/List_of_MPs_elected_in_the_United_Kingdom_general_election,_',\n",
    "        str(year)])\n",
    "    req = requests.get(url)\n",
    "    assert req.status_code == 200\n",
    "    table = BeautifulSoup(req.content, \"html5lib\").find_all(\"table\", class_=\"wikitable sortable\")[0]\n",
    "    for row in table.find_all(\"tr\")[1:]:\n",
    "        cells = list(row.find_all('td'))\n",
    "        constituency = cells[0].text\n",
    "        incumbent_party = cells[2].text\n",
    "        member_returned = cells[4].find('a').text\n",
    "        member_chunks = cells[4].text.split('\\xa0')\n",
    "        try:\n",
    "            member_party = member_chunks[1][1:-1]\n",
    "        except:\n",
    "            member_party = ''\n",
    "        result_chunks = re.split('[.;,]',cells[5].text)\n",
    "        outcome = result_chunks[0]\n",
    "        try:\n",
    "            notes = result_chunks[1]\n",
    "        except:\n",
    "            notes = ''\n",
    "        yield {'constituency':constituency, 'incumbent_party':incumbent_party, 'member_returned':member_returned,\n",
    "            'member_party':member_party, 'outcome':outcome, 'notes':notes}"
   ]
  },
  {
   "cell_type": "markdown",
   "metadata": {
    "slideshow": {
     "slide_type": "slide"
    }
   },
   "source": [
    "# We get the data as a list of dicts:"
   ]
  },
  {
   "cell_type": "code",
   "execution_count": 3,
   "metadata": {
    "collapsed": false,
    "scrolled": true,
    "slideshow": {
     "slide_type": "fragment"
    }
   },
   "outputs": [
    {
     "data": {
      "text/plain": [
       "[{'constituency': 'Aberavon',\n",
       "  'incumbent_party': 'Labour',\n",
       "  'member_party': 'L',\n",
       "  'member_returned': 'The Hon. Stephen Kinnock',\n",
       "  'notes': '',\n",
       "  'outcome': 'Seat held'},\n",
       " {'constituency': 'Aberconwy',\n",
       "  'incumbent_party': 'Conservative',\n",
       "  'member_party': 'C',\n",
       "  'member_returned': 'Guto Bebb',\n",
       "  'notes': '',\n",
       "  'outcome': 'Seat held'},\n",
       " {'constituency': 'Aberdeen North',\n",
       "  'incumbent_party': 'SNP',\n",
       "  'member_party': 'SNP',\n",
       "  'member_returned': 'Kirsty Blackman',\n",
       "  'notes': '',\n",
       "  'outcome': 'Seat held'}]"
      ]
     },
     "execution_count": 3,
     "metadata": {},
     "output_type": "execute_result"
    }
   ],
   "source": [
    "ge_2017 = list(getWikiMPs(2017))\n",
    "ge_2017[0:3]"
   ]
  },
  {
   "cell_type": "markdown",
   "metadata": {
    "slideshow": {
     "slide_type": "slide"
    }
   },
   "source": [
    "## Columns for General Election tables:"
   ]
  },
  {
   "cell_type": "code",
   "execution_count": 4,
   "metadata": {
    "collapsed": false,
    "slideshow": {
     "slide_type": "fragment"
    }
   },
   "outputs": [
    {
     "data": {
      "text/plain": [
       "['constituency',\n",
       " 'incumbent_party',\n",
       " 'member_party',\n",
       " 'member_returned',\n",
       " 'notes',\n",
       " 'outcome']"
      ]
     },
     "execution_count": 4,
     "metadata": {},
     "output_type": "execute_result"
    }
   ],
   "source": [
    "election_columns = sorted(list(ge_2017[0].keys())) # The order of dict keys can be tricky.\n",
    "election_columns"
   ]
  },
  {
   "cell_type": "markdown",
   "metadata": {
    "slideshow": {
     "slide_type": "slide"
    }
   },
   "source": [
    "## To get a SQLite database, we point \"sqlite3.connect\" at a file.\n",
    "## All the operations on our database are done via a \"cursor\".\n",
    "## Read the [standard library documentation](https://docs.python.org/3/library/sqlite3.html)."
   ]
  },
  {
   "cell_type": "code",
   "execution_count": 5,
   "metadata": {
    "collapsed": true,
    "slideshow": {
     "slide_type": "fragment"
    }
   },
   "outputs": [],
   "source": [
    "os.remove('elections.sqlite')\n",
    "election_db = sqlite3.connect('elections.sqlite')\n",
    "election_cursor = election_db.cursor()"
   ]
  },
  {
   "cell_type": "markdown",
   "metadata": {
    "slideshow": {
     "slide_type": "slide"
    }
   },
   "source": [
    "# All database operations are done by passing SQL code to \"cursor.execute\".\n",
    "## If we modify the database, we need to call \"connection.commit()\"\n",
    "## We mostly get data out with \"cursor.fetchall()\"."
   ]
  },
  {
   "cell_type": "code",
   "execution_count": 6,
   "metadata": {
    "collapsed": false,
    "slideshow": {
     "slide_type": "fragment"
    }
   },
   "outputs": [],
   "source": [
    "create_statement = '''CREATE TABLE ge_2017(id INTEGER PRIMARY KEY, constituency TEXT,\n",
    "    incumbent_party TEXT, member_party TEXT, member_returned TEXT, notes TEXT, \n",
    "    outcome TEXT)'''\n",
    "election_cursor.execute(create_statement)\n",
    "election_db.commit()"
   ]
  },
  {
   "cell_type": "markdown",
   "metadata": {
    "slideshow": {
     "slide_type": "slide"
    }
   },
   "source": [
    "# Sometimes we write code that generates SQL for us:"
   ]
  },
  {
   "cell_type": "code",
   "execution_count": 7,
   "metadata": {
    "collapsed": false,
    "slideshow": {
     "slide_type": "fragment"
    }
   },
   "outputs": [
    {
     "data": {
      "text/plain": [
       "'CREATE TABLE ge_2015(id INTEGER PRIMARY KEY, constituency TEXT, incumbent_party TEXT, member_party TEXT, member_returned TEXT, notes TEXT, outcome TEXT)'"
      ]
     },
     "execution_count": 7,
     "metadata": {},
     "output_type": "execute_result"
    }
   ],
   "source": [
    "def textTableCreator(name, columns=election_columns):\n",
    "    cols =  ', '.join(['id INTEGER PRIMARY KEY'] + [' '.join([col,'TEXT']) for col in columns])\n",
    "    return 'CREATE TABLE '+name+'('+cols+')'\n",
    "    \n",
    "textTableCreator('ge_2015')"
   ]
  },
  {
   "cell_type": "markdown",
   "metadata": {
    "slideshow": {
     "slide_type": "slide"
    }
   },
   "source": [
    "## To *properly* inject values into SQL, use ?s as place-holders, and pass in a tuple."
   ]
  },
  {
   "cell_type": "code",
   "execution_count": 8,
   "metadata": {
    "collapsed": false,
    "slideshow": {
     "slide_type": "fragment"
    }
   },
   "outputs": [],
   "source": [
    "def pushWikiMPs(db, cursor, table, data):\n",
    "    rows = [(i,) + tuple([row[col] for col in election_columns]) for i,row in enumerate(data)]\n",
    "    cursor.executemany('INSERT INTO '+table+' VALUES (?,?,?,?,?,?,?)', rows)\n",
    "    db.commit()"
   ]
  },
  {
   "cell_type": "code",
   "execution_count": 9,
   "metadata": {
    "collapsed": false,
    "slideshow": {
     "slide_type": "fragment"
    }
   },
   "outputs": [],
   "source": [
    "pushWikiMPs(election_db, election_cursor, 'ge_2017', ge_2017)"
   ]
  },
  {
   "cell_type": "markdown",
   "metadata": {
    "slideshow": {
     "slide_type": "slide"
    }
   },
   "source": [
    "## Using \"SELECT\" to get all the rows from a table:"
   ]
  },
  {
   "cell_type": "code",
   "execution_count": 10,
   "metadata": {
    "collapsed": false,
    "slideshow": {
     "slide_type": "fragment"
    }
   },
   "outputs": [
    {
     "data": {
      "text/plain": [
       "[(0, 'Aberavon', 'Labour', 'L', 'The Hon. Stephen Kinnock', '', 'Seat held'),\n",
       " (1, 'Aberconwy', 'Conservative', 'C', 'Guto Bebb', '', 'Seat held'),\n",
       " (2, 'Aberdeen North', 'SNP', 'SNP', 'Kirsty Blackman', '', 'Seat held')]"
      ]
     },
     "execution_count": 10,
     "metadata": {},
     "output_type": "execute_result"
    }
   ],
   "source": [
    "election_cursor.execute('SELECT * FROM ge_2017')\n",
    "election_cursor.fetchall()[0:3]"
   ]
  },
  {
   "cell_type": "markdown",
   "metadata": {
    "slideshow": {
     "slide_type": "slide"
    }
   },
   "source": [
    "## Returning a single column:"
   ]
  },
  {
   "cell_type": "code",
   "execution_count": 11,
   "metadata": {
    "collapsed": false,
    "slideshow": {
     "slide_type": "fragment"
    }
   },
   "outputs": [
    {
     "data": {
      "text/plain": [
       "[('Labour',),\n",
       " ('Conservative',),\n",
       " ('SNP',),\n",
       " ('SNP',),\n",
       " ('SNP',),\n",
       " ('Conservative',),\n",
       " ('Conservative',),\n",
       " ('Conservative',)]"
      ]
     },
     "execution_count": 11,
     "metadata": {},
     "output_type": "execute_result"
    }
   ],
   "source": [
    "election_cursor.execute('SELECT incumbent_party FROM ge_2017')\n",
    "election_cursor.fetchall()[0:8]"
   ]
  },
  {
   "cell_type": "markdown",
   "metadata": {
    "slideshow": {
     "slide_type": "slide"
    }
   },
   "source": [
    "## Using DISTINCT to get the name of each party:"
   ]
  },
  {
   "cell_type": "code",
   "execution_count": 12,
   "metadata": {
    "collapsed": false,
    "scrolled": true,
    "slideshow": {
     "slide_type": "fragment"
    }
   },
   "outputs": [
    {
     "data": {
      "text/plain": [
       "[('Labour',),\n",
       " ('Conservative',),\n",
       " ('SNP',),\n",
       " ('Plaid Cymru',),\n",
       " ('Labour Co-operative',),\n",
       " ('DUP',),\n",
       " ('SDLP',),\n",
       " ('Sinn Féin',),\n",
       " ('Green Party',),\n",
       " ('The Speaker',),\n",
       " ('Liberal Democrats',),\n",
       " ('Independent[a]',),\n",
       " ('UUP',),\n",
       " ('Independent',)]"
      ]
     },
     "execution_count": 12,
     "metadata": {},
     "output_type": "execute_result"
    }
   ],
   "source": [
    "election_cursor.execute('SELECT DISTINCT incumbent_party FROM ge_2017')\n",
    "election_cursor.fetchall()"
   ]
  },
  {
   "cell_type": "markdown",
   "metadata": {
    "slideshow": {
     "slide_type": "slide"
    }
   },
   "source": [
    "## Abbreviations of parties in alphabetical order:"
   ]
  },
  {
   "cell_type": "code",
   "execution_count": 13,
   "metadata": {
    "collapsed": false,
    "slideshow": {
     "slide_type": "fragment"
    }
   },
   "outputs": [
    {
     "data": {
      "text/plain": [
       "[('C',),\n",
       " ('DUP',),\n",
       " ('Green',),\n",
       " ('Ind',),\n",
       " ('L',),\n",
       " ('L Co-op',),\n",
       " ('LD',),\n",
       " ('PC',),\n",
       " ('SF',),\n",
       " ('SNP',),\n",
       " ('Speaker',)]"
      ]
     },
     "execution_count": 13,
     "metadata": {},
     "output_type": "execute_result"
    }
   ],
   "source": [
    "election_cursor.execute('SELECT DISTINCT member_party FROM ge_2017 ORDER BY member_party')\n",
    "election_cursor.fetchall()"
   ]
  },
  {
   "cell_type": "markdown",
   "metadata": {
    "slideshow": {
     "slide_type": "slide"
    }
   },
   "source": [
    "## Using a \"WHERE\" clause to get Liberal Democrat seats:"
   ]
  },
  {
   "cell_type": "code",
   "execution_count": 14,
   "metadata": {
    "collapsed": false,
    "slideshow": {
     "slide_type": "fragment"
    }
   },
   "outputs": [
    {
     "data": {
      "text/plain": [
       "[('Bath', 'Wera Hobhouse'),\n",
       " ('Caithness, Sutherland and Easter Ross', 'Jamie Stone'),\n",
       " ('Carshalton and Wallington', 'Tom Brake'),\n",
       " ('East Dunbartonshire', 'Jo Swinson'),\n",
       " ('Eastbourne', 'Stephen Lloyd'),\n",
       " ('Edinburgh West', 'Christine Jardine'),\n",
       " ('Kingston and Surbiton', 'Sir Ed Davey'),\n",
       " ('North Norfolk', 'Norman Lamb'),\n",
       " ('Orkney and Shetland', 'Alistair Carmichael'),\n",
       " ('Oxford West and Abingdon', 'Layla Moran'),\n",
       " ('Twickenham', 'Sir Vince Cable'),\n",
       " ('Westmorland and Lonsdale', 'Tim Farron')]"
      ]
     },
     "execution_count": 14,
     "metadata": {},
     "output_type": "execute_result"
    }
   ],
   "source": [
    "election_cursor.execute('''SELECT constituency, member_returned FROM ge_2017 \n",
    "    WHERE member_party=\"LD\"''')\n",
    "election_cursor.fetchall()"
   ]
  },
  {
   "cell_type": "markdown",
   "metadata": {
    "slideshow": {
     "slide_type": "slide"
    }
   },
   "source": [
    "## Seats gained BY the Liberal Democrats:"
   ]
  },
  {
   "cell_type": "code",
   "execution_count": 15,
   "metadata": {
    "collapsed": false,
    "slideshow": {
     "slide_type": "fragment"
    }
   },
   "outputs": [
    {
     "data": {
      "text/plain": [
       "[('Bath', 'Wera Hobhouse'),\n",
       " ('Caithness, Sutherland and Easter Ross', 'Jamie Stone'),\n",
       " ('East Dunbartonshire', 'Jo Swinson'),\n",
       " ('Eastbourne', 'Stephen Lloyd'),\n",
       " ('Edinburgh West', 'Christine Jardine'),\n",
       " ('Kingston and Surbiton', 'Sir Ed Davey'),\n",
       " ('Oxford West and Abingdon', 'Layla Moran'),\n",
       " ('Twickenham', 'Sir Vince Cable')]"
      ]
     },
     "execution_count": 15,
     "metadata": {},
     "output_type": "execute_result"
    }
   ],
   "source": [
    "election_cursor.execute('''SELECT constituency, member_returned FROM ge_2017\n",
    "    WHERE member_party=\"LD\" AND outcome=\"Seat gain\"''')\n",
    "election_cursor.fetchall()"
   ]
  },
  {
   "cell_type": "markdown",
   "metadata": {
    "slideshow": {
     "slide_type": "slide"
    }
   },
   "source": [
    "## Seats gained FROM the Liberal Democrats:"
   ]
  },
  {
   "cell_type": "code",
   "execution_count": 16,
   "metadata": {
    "collapsed": false,
    "slideshow": {
     "slide_type": "fragment"
    }
   },
   "outputs": [
    {
     "data": {
      "text/plain": [
       "[('Ceredigion', 'Ben Lake', 'PC'),\n",
       " ('Leeds North West', 'Alex Sobel', 'L Co-op'),\n",
       " ('Richmond Park', 'Zac Goldsmith', 'C'),\n",
       " ('Sheffield Hallam', \"Jared O'Mara\", 'L'),\n",
       " ('Southport', 'Damien Moore', 'C')]"
      ]
     },
     "execution_count": 16,
     "metadata": {},
     "output_type": "execute_result"
    }
   ],
   "source": [
    "election_cursor.execute('''SELECT constituency, member_returned, member_party FROM ge_2017\n",
    "    WHERE incumbent_party=\"Liberal Democrats\" AND outcome=\"Seat gain\"''')\n",
    "election_cursor.fetchall()"
   ]
  },
  {
   "cell_type": "markdown",
   "metadata": {
    "slideshow": {
     "slide_type": "slide"
    }
   },
   "source": [
    "## Seats gained from the Conservatives, in party order:"
   ]
  },
  {
   "cell_type": "code",
   "execution_count": 17,
   "metadata": {
    "collapsed": false,
    "slideshow": {
     "slide_type": "fragment"
    }
   },
   "outputs": [
    {
     "data": {
      "text/plain": [
       "[('Battersea', 'Marsha de Cordova', 'L'),\n",
       " ('Bedford', 'Mohammad Yasin', 'L'),\n",
       " ('Bristol North West', 'Darren Jones', 'L'),\n",
       " ('Bury North', 'James Frith', 'L'),\n",
       " ('Canterbury', 'Rosie Duffield', 'L'),\n",
       " ('Cardiff North', 'Anna McMorrin', 'L'),\n",
       " ('Colne Valley', 'Thelma Walker', 'L'),\n",
       " ('Crewe and Nantwich', 'Laura Smith', 'L'),\n",
       " ('Croydon Central', 'Sarah Jones', 'L'),\n",
       " ('Derby North', 'Chris Williamson', 'L')]"
      ]
     },
     "execution_count": 17,
     "metadata": {},
     "output_type": "execute_result"
    }
   ],
   "source": [
    "def seatsGainedFrom(cursor,party):\n",
    "    cursor.execute('SELECT constituency, member_returned, member_party FROM ge_2017 '\n",
    "        +'WHERE incumbent_party=? AND outcome=\"Seat gain\" ORDER BY member_party', (party,))\n",
    "    return cursor.fetchall()\n",
    "seatsGainedFrom(election_cursor,'Conservative')[0:10]"
   ]
  },
  {
   "cell_type": "markdown",
   "metadata": {
    "slideshow": {
     "slide_type": "slide"
    }
   },
   "source": [
    "## Using \"COUNT\" to return how many seats were lost by the Conservatives:"
   ]
  },
  {
   "cell_type": "code",
   "execution_count": 18,
   "metadata": {
    "collapsed": false,
    "slideshow": {
     "slide_type": "fragment"
    }
   },
   "outputs": [
    {
     "data": {
      "text/plain": [
       "[(33,)]"
      ]
     },
     "execution_count": 18,
     "metadata": {},
     "output_type": "execute_result"
    }
   ],
   "source": [
    "election_cursor.execute('''SELECT COUNT(*) FROM ge_2017\n",
    "    WHERE incumbent_party=\"Conservative\" AND outcome=\"Seat gain\" ORDER BY member_party''')\n",
    "election_cursor.fetchall()"
   ]
  },
  {
   "cell_type": "markdown",
   "metadata": {
    "slideshow": {
     "slide_type": "slide"
    }
   },
   "source": [
    "## Using \"GROUP BY\" to return how many seats each party gained from the Conservatives:"
   ]
  },
  {
   "cell_type": "code",
   "execution_count": 19,
   "metadata": {
    "collapsed": false,
    "slideshow": {
     "slide_type": "fragment"
    }
   },
   "outputs": [
    {
     "data": {
      "text/plain": [
       "[('L', 25), ('L Co-op', 3), ('LD', 5)]"
      ]
     },
     "execution_count": 19,
     "metadata": {},
     "output_type": "execute_result"
    }
   ],
   "source": [
    "election_cursor.execute('''SELECT member_party, COUNT(*) FROM ge_2017\n",
    "    WHERE incumbent_party=\"Conservative\" AND outcome=\"Seat gain\" GROUP BY member_party''')\n",
    "election_cursor.fetchall()"
   ]
  },
  {
   "cell_type": "markdown",
   "metadata": {
    "slideshow": {
     "slide_type": "slide"
    }
   },
   "source": [
    "## Using \"GROUP BY\" to see who won the election:"
   ]
  },
  {
   "cell_type": "code",
   "execution_count": 20,
   "metadata": {
    "collapsed": false,
    "slideshow": {
     "slide_type": "fragment"
    }
   },
   "outputs": [
    {
     "data": {
      "text/plain": [
       "[('C', 317),\n",
       " ('L', 226),\n",
       " ('L Co-op', 36),\n",
       " ('SNP', 35),\n",
       " ('LD', 12),\n",
       " ('DUP', 10),\n",
       " ('SF', 7),\n",
       " ('PC', 4),\n",
       " ('Green', 1),\n",
       " ('Ind', 1),\n",
       " ('Speaker', 1)]"
      ]
     },
     "execution_count": 20,
     "metadata": {},
     "output_type": "execute_result"
    }
   ],
   "source": [
    "election_cursor.execute('''SELECT member_party, COUNT(*) AS seats FROM ge_2017\n",
    "    GROUP BY member_party\n",
    "    ORDER BY seats DESC''')\n",
    "result_2017 = election_cursor.fetchall()\n",
    "result_2017"
   ]
  },
  {
   "cell_type": "markdown",
   "metadata": {
    "slideshow": {
     "slide_type": "slide"
    }
   },
   "source": [
    "## (Arguably, the answer is the DUP...)"
   ]
  },
  {
   "cell_type": "code",
   "execution_count": 21,
   "metadata": {
    "collapsed": false,
    "slideshow": {
     "slide_type": "fragment"
    }
   },
   "outputs": [
    {
     "name": "stdout",
     "output_type": "stream",
     "text": [
      "Conservatives:  317 Everyone Else:  333\n"
     ]
    }
   ],
   "source": [
    "print('Conservatives: ', result_2017[0][1], \"Everyone Else: \", sum([r[1] for r in result_2017[1:]]))"
   ]
  },
  {
   "cell_type": "markdown",
   "metadata": {
    "slideshow": {
     "slide_type": "slide"
    }
   },
   "source": [
    "## (Add tables for 2010 and 2015...)"
   ]
  },
  {
   "cell_type": "code",
   "execution_count": 22,
   "metadata": {
    "collapsed": true,
    "slideshow": {
     "slide_type": "fragment"
    }
   },
   "outputs": [],
   "source": [
    "for year in 2010, 2015:\n",
    "    mps = getWikiMPs(year)\n",
    "    table = '_'.join(['ge',str(year)])\n",
    "    election_cursor.execute(textTableCreator(table))\n",
    "    pushWikiMPs(election_db, election_cursor, table, mps)"
   ]
  },
  {
   "cell_type": "code",
   "execution_count": 23,
   "metadata": {
    "collapsed": false,
    "slideshow": {
     "slide_type": "fragment"
    }
   },
   "outputs": [
    {
     "data": {
      "text/plain": [
       "[(0, 'Aberavon', 'Labour', 'L', 'Hywel Francis', '', 'Seat held'),\n",
       " (1, 'Aberconwy', 'Labour', 'C', 'Guto Bebb', '', 'New constituency'),\n",
       " (2, 'Aberdeen North', 'Labour', 'L', 'Frank Doran', '', 'Seat held')]"
      ]
     },
     "execution_count": 23,
     "metadata": {},
     "output_type": "execute_result"
    }
   ],
   "source": [
    "election_cursor.execute('SELECT * FROM ge_2010')\n",
    "election_cursor.fetchall()[0:3]"
   ]
  },
  {
   "cell_type": "markdown",
   "metadata": {
    "slideshow": {
     "slide_type": "slide"
    }
   },
   "source": [
    "# [Joins!](https://www.tutorialspoint.com/sqlite/sqlite_using_joins.htm)\n",
    "## Combine the 2010 and 2015 tables.\n",
    "## Each row has the same consituency and member_returned."
   ]
  },
  {
   "cell_type": "code",
   "execution_count": 24,
   "metadata": {
    "collapsed": false,
    "slideshow": {
     "slide_type": "fragment"
    }
   },
   "outputs": [
    {
     "data": {
      "text/plain": [
       "(7,\n",
       " 'Altrincham and Sale West',\n",
       " 'Conservative',\n",
       " 'C',\n",
       " 'Graham Brady',\n",
       " '',\n",
       " 'Seat held',\n",
       " 7,\n",
       " 'Conservative',\n",
       " 'C',\n",
       " '',\n",
       " 'Seat held')"
      ]
     },
     "execution_count": 24,
     "metadata": {},
     "output_type": "execute_result"
    }
   ],
   "source": [
    "election_cursor.execute('''SELECT * FROM ge_2010 JOIN ge_2015 \n",
    "    USING (constituency, member_returned)''')\n",
    "election_cursor.fetchall()[1]"
   ]
  },
  {
   "cell_type": "markdown",
   "metadata": {
    "slideshow": {
     "slide_type": "slide"
    }
   },
   "source": [
    "## Most column names are duplicated.\n",
    "## Refer to them via the original tables."
   ]
  },
  {
   "cell_type": "code",
   "execution_count": 25,
   "metadata": {
    "collapsed": false,
    "slideshow": {
     "slide_type": "fragment"
    }
   },
   "outputs": [
    {
     "data": {
      "text/plain": [
       "('C', 'C')"
      ]
     },
     "execution_count": 25,
     "metadata": {},
     "output_type": "execute_result"
    }
   ],
   "source": [
    "election_cursor.execute('''SELECT ge_2010.member_party, ge_2015.member_party\n",
    "    FROM ge_2010 JOIN ge_2015\n",
    "    USING (constituency, member_returned)''')\n",
    "election_cursor.fetchall()[1]"
   ]
  },
  {
   "cell_type": "markdown",
   "metadata": {
    "slideshow": {
     "slide_type": "slide"
    }
   },
   "source": [
    "## Use the joined table to see who switched party between 2010 and 2015."
   ]
  },
  {
   "cell_type": "code",
   "execution_count": 26,
   "metadata": {
    "collapsed": false,
    "slideshow": {
     "slide_type": "fragment"
    }
   },
   "outputs": [
    {
     "data": {
      "text/plain": [
       "[('L', 'L Co-op', 'John Woodcock', 'Barrow and Furness'),\n",
       " ('C', 'UKIP', 'Douglas Carswell', 'Clacton'),\n",
       " ('L', 'L Co-op', 'Meg Hillier', 'Hackney South and Shoreditch'),\n",
       " ('L', 'L Co-op', 'Gareth Thomas', 'Harrow West'),\n",
       " ('L', 'L Co-op', 'Barry Sheerman', 'Huddersfield'),\n",
       " ('L', 'L Co-op', 'Mike Gapes', 'Ilford South'),\n",
       " ('L', 'L Co-op', 'Chris Evans', 'Islwyn'),\n",
       " ('L', 'L Co-op', 'Gavin Shuker', 'Luton South'),\n",
       " ('L', 'L Co-op', 'Chris Leslie', 'Nottingham East'),\n",
       " ('L', 'L Co-op', 'Mark Hendrick', 'Preston'),\n",
       " ('L', 'L Co-op', 'Jonathan Reynolds', 'Stalybridge and Hyde'),\n",
       " ('L', 'L Co-op', 'Geraint Davies', 'Swansea West'),\n",
       " ('L', 'L Co-op', 'Stella Creasy', 'Walthamstow'),\n",
       " ('L', 'L Co-op', 'Adrian Bailey', 'West Bromwich West')]"
      ]
     },
     "execution_count": 26,
     "metadata": {},
     "output_type": "execute_result"
    }
   ],
   "source": [
    "election_cursor.execute('''SELECT ge_2010.member_party, ge_2015.member_party,\n",
    "    member_returned, constituency\n",
    "    FROM ge_2010 JOIN ge_2015 USING (constituency, member_returned)\n",
    "    WHERE NOT ge_2010.member_party = ge_2015.member_party''')\n",
    "election_cursor.fetchall()"
   ]
  },
  {
   "cell_type": "markdown",
   "metadata": {
    "slideshow": {
     "slide_type": "slide"
    }
   },
   "source": [
    "# (What happened to Douglas Carswell in 2017?)"
   ]
  },
  {
   "cell_type": "code",
   "execution_count": 27,
   "metadata": {
    "collapsed": false,
    "slideshow": {
     "slide_type": "fragment"
    }
   },
   "outputs": [
    {
     "name": "stdout",
     "output_type": "stream",
     "text": [
      "[] 😄\n"
     ]
    }
   ],
   "source": [
    "election_cursor.execute('''SELECT constituency FROM ge_2017\n",
    "    WHERE member_returned = \"Douglas Carswell\"''')\n",
    "print(election_cursor.fetchall(), u'\\U0001f604')"
   ]
  },
  {
   "cell_type": "markdown",
   "metadata": {
    "slideshow": {
     "slide_type": "slide"
    }
   },
   "source": [
    "# Virtuosity with lists:\n",
    "![Primitive](https://github.com/kingsBSD/sqlite-example/blob/master/images/brain_0.png?raw=true)\n",
    "## Primitive:"
   ]
  },
  {
   "cell_type": "code",
   "execution_count": 28,
   "metadata": {
    "collapsed": false,
    "slideshow": {
     "slide_type": "fragment"
    }
   },
   "outputs": [
    {
     "data": {
      "text/plain": [
       "[16, 16, 17, 17, 18, 18, 19, 19, 20, 20, 21, 21, 22]"
      ]
     },
     "execution_count": 28,
     "metadata": {},
     "output_type": "execute_result"
    }
   ],
   "source": [
    "silly_list = []\n",
    "for n in range(18,31):\n",
    "    silly_list.append(n//2 + 7)\n",
    "silly_list"
   ]
  },
  {
   "cell_type": "markdown",
   "metadata": {
    "slideshow": {
     "slide_type": "slide"
    }
   },
   "source": [
    "![Better](https://github.com/kingsBSD/sqlite-example/blob/master/images/brain_1.png?raw=true)\n",
    "## Better: (list comprehensions)"
   ]
  },
  {
   "cell_type": "code",
   "execution_count": 29,
   "metadata": {
    "collapsed": false,
    "slideshow": {
     "slide_type": "fragment"
    }
   },
   "outputs": [
    {
     "data": {
      "text/plain": [
       "[16, 16, 17, 17, 18, 18, 19, 19, 20, 20, 21, 21, 22]"
      ]
     },
     "execution_count": 29,
     "metadata": {},
     "output_type": "execute_result"
    }
   ],
   "source": [
    "[n//2 + 7 for n in range(18,31)]"
   ]
  },
  {
   "cell_type": "markdown",
   "metadata": {
    "slideshow": {
     "slide_type": "slide"
    }
   },
   "source": [
    "![Better Still](https://github.com/kingsBSD/sqlite-example/blob/master/images/brain_3.png?raw=true)\n",
    "## Better Still? (map)"
   ]
  },
  {
   "cell_type": "code",
   "execution_count": 30,
   "metadata": {
    "collapsed": false,
    "slideshow": {
     "slide_type": "fragment"
    }
   },
   "outputs": [
    {
     "data": {
      "text/plain": [
       "[16, 16, 17, 17, 18, 18, 19, 19, 20, 20, 21, 21, 22]"
      ]
     },
     "execution_count": 30,
     "metadata": {},
     "output_type": "execute_result"
    }
   ],
   "source": [
    "def silly_function(n):\n",
    "    return n//2 + 7\n",
    "list(map(silly_function,range(18,31)))"
   ]
  },
  {
   "cell_type": "markdown",
   "metadata": {
    "slideshow": {
     "slide_type": "slide"
    }
   },
   "source": [
    "![Genius!](https://github.com/kingsBSD/sqlite-example/blob/master/images/brain_4.png?raw=true)\n",
    "## Genius! (map + lambda)"
   ]
  },
  {
   "cell_type": "code",
   "execution_count": 31,
   "metadata": {
    "collapsed": false,
    "slideshow": {
     "slide_type": "fragment"
    }
   },
   "outputs": [
    {
     "data": {
      "text/plain": [
       "[16, 16, 17, 17, 18, 18, 19, 19, 20, 20, 21, 21, 22]"
      ]
     },
     "execution_count": 31,
     "metadata": {},
     "output_type": "execute_result"
    }
   ],
   "source": [
    "list(map(lambda x: x//2 + 7, range(18,31)))"
   ]
  },
  {
   "cell_type": "markdown",
   "metadata": {
    "slideshow": {
     "slide_type": "slide"
    }
   },
   "source": [
    "# Map / List Comprehensions Considered Useful:"
   ]
  },
  {
   "cell_type": "code",
   "execution_count": 32,
   "metadata": {
    "collapsed": false,
    "slideshow": {
     "slide_type": "fragment"
    }
   },
   "outputs": [
    {
     "data": {
      "text/plain": [
       "['Labour',\n",
       " 'Conservative',\n",
       " 'SNP',\n",
       " 'Liberal Democrats',\n",
       " 'DUP',\n",
       " 'SDLP',\n",
       " 'Sinn Féin',\n",
       " 'Respect',\n",
       " 'BGPV',\n",
       " 'Plaid Cymru',\n",
       " 'Labour Party',\n",
       " 'Scottish National Party',\n",
       " 'UUP',\n",
       " 'Liberal Democrat',\n",
       " 'Democratic Unionist Party',\n",
       " 'Conservative Party',\n",
       " 'Health Concern']"
      ]
     },
     "execution_count": 32,
     "metadata": {},
     "output_type": "execute_result"
    }
   ],
   "source": [
    "election_cursor.execute('SELECT DISTINCT incumbent_party FROM ge_2010')\n",
    "list(map(lambda x: x[0],election_cursor.fetchall()))"
   ]
  },
  {
   "cell_type": "markdown",
   "metadata": {
    "slideshow": {
     "slide_type": "slide"
    }
   },
   "source": [
    "## There are also dict comprehensions."
   ]
  },
  {
   "cell_type": "code",
   "execution_count": 33,
   "metadata": {
    "collapsed": false,
    "slideshow": {
     "slide_type": "fragment"
    }
   },
   "outputs": [
    {
     "data": {
      "text/plain": [
       "{1: 'Mon', 2: 'Tue', 3: 'Wed', 4: 'Thu', 5: 'Fri', 6: 'Sat', 7: 'Sun'}"
      ]
     },
     "execution_count": 33,
     "metadata": {},
     "output_type": "execute_result"
    }
   ],
   "source": [
    "{i+1:day for i,day in enumerate(['Mon', 'Tue', 'Wed', 'Thu', 'Fri', 'Sat', 'Sun'])}"
   ]
  },
  {
   "cell_type": "markdown",
   "metadata": {
    "slideshow": {
     "slide_type": "slide"
    }
   },
   "source": [
    "# Zip is fun:"
   ]
  },
  {
   "cell_type": "code",
   "execution_count": 34,
   "metadata": {
    "collapsed": false,
    "slideshow": {
     "slide_type": "fragment"
    }
   },
   "outputs": [
    {
     "data": {
      "text/plain": [
       "[('Mon', 'Mon', 'Lun'),\n",
       " ('Tue', 'Die', 'Mar'),\n",
       " ('Wed', 'Mit', 'Mer'),\n",
       " ('Thu', 'Don', 'Jeu'),\n",
       " ('Fri', 'Fri', 'Ven'),\n",
       " ('Sat', 'Sam', 'Sam'),\n",
       " ('Sun', 'Son', 'Dim')]"
      ]
     },
     "execution_count": 34,
     "metadata": {},
     "output_type": "execute_result"
    }
   ],
   "source": [
    "english = ['Mon', 'Tue', 'Wed', 'Thu', 'Fri', 'Sat', 'Sun']\n",
    "deutsch = ['Mon', 'Die', 'Mit', 'Don', 'Fri', 'Sam', 'Son']\n",
    "francais = ['Lun', 'Mar', 'Mer', 'Jeu', 'Ven', 'Sam', 'Dim']\n",
    "days = list(zip(english, deutsch, francais))\n",
    "days"
   ]
  },
  {
   "cell_type": "code",
   "execution_count": 35,
   "metadata": {
    "collapsed": false,
    "slideshow": {
     "slide_type": "fragment"
    }
   },
   "outputs": [
    {
     "data": {
      "text/plain": [
       "[('Mon', 'Tue', 'Wed', 'Thu', 'Fri', 'Sat', 'Sun'),\n",
       " ('Mon', 'Die', 'Mit', 'Don', 'Fri', 'Sam', 'Son'),\n",
       " ('Lun', 'Mar', 'Mer', 'Jeu', 'Ven', 'Sam', 'Dim')]"
      ]
     },
     "execution_count": 35,
     "metadata": {},
     "output_type": "execute_result"
    }
   ],
   "source": [
    "list(zip(*days))"
   ]
  }
 ],
 "metadata": {
  "celltoolbar": "Slideshow",
  "kernelspec": {
   "display_name": "Python 3",
   "language": "python",
   "name": "python3"
  },
  "language_info": {
   "codemirror_mode": {
    "name": "ipython",
    "version": 3
   },
   "file_extension": ".py",
   "mimetype": "text/x-python",
   "name": "python",
   "nbconvert_exporter": "python",
   "pygments_lexer": "ipython3",
   "version": "3.5.2"
  }
 },
 "nbformat": 4,
 "nbformat_minor": 0
}
