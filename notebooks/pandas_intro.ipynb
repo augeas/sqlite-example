{
 "cells": [
  {
   "cell_type": "markdown",
   "metadata": {},
   "source": [
    "## Introduction to Pandas - Practice Challenge"
   ]
  },
  {
   "cell_type": "code",
   "execution_count": null,
   "metadata": {
    "collapsed": true
   },
   "outputs": [],
   "source": [
    "import pandas as pd\n",
    "\n",
    "from unittest import TestCase, TestLoader, TextTestRunner\n",
    "\n",
    "def runTest(case):\n",
    "    suite = TestLoader().loadTestsFromModule(case())\n",
    "    TextTestRunner().run(suite)             "
   ]
  },
  {
   "cell_type": "markdown",
   "metadata": {},
   "source": [
    "## This Week's Aims\n",
    "\n",
    "The Titanic survivor dataset turns up frequently in introductions to machine learning.\n",
    "Have a look at the [data](https://raw.githubusercontent.com/datasciencedojo/datasets/master/titanic.csv). It's a big .csv (comma separated variable) file. Python has a [module](https://docs.python.org/3/library/csv.html) in the standard library for dealing with them, but that's too much like hard work. We don't want to write loads of code that repeatedly loops over the data to gain the insights we want. There is an easier way. The [Pandas](https://pandas.pydata.org/) library provides a \"complex type\" called a dataframe, a bit like the ones in the R language.\n",
    "\n",
    "We'll try some basic techniques to get some decent insights from the data, *without writing much code*. If you write more than a half-dozen lines in most of these challenges, you've probably gone wrong! Hopefully, you should be able to point Pandas at most structured data that grabs your interest, and draw conclusions from it with minimal effort."
   ]
  },
  {
   "cell_type": "code",
   "execution_count": null,
   "metadata": {
    "collapsed": true
   },
   "outputs": [],
   "source": [
    "titanic_url = 'https://raw.githubusercontent.com/datasciencedojo/datasets/master/titanic.csv'"
   ]
  },
  {
   "cell_type": "markdown",
   "metadata": {},
   "source": [
    "All we need to do to put the csv in a dataframe is to pass the url to the Pandas [\"read_csv\" method](https://pandas.pydata.org/pandas-docs/stable/generated/pandas.read_csv.html):"
   ]
  },
  {
   "cell_type": "code",
   "execution_count": null,
   "metadata": {
    "collapsed": false
   },
   "outputs": [],
   "source": [
    "titanic = pd.read_csv(titanic_url)"
   ]
  },
  {
   "cell_type": "markdown",
   "metadata": {},
   "source": [
    "Jupyter can display dataframes quite nicely:"
   ]
  },
  {
   "cell_type": "code",
   "execution_count": null,
   "metadata": {
    "collapsed": false
   },
   "outputs": [],
   "source": [
    "titanic"
   ]
  },
  {
   "cell_type": "markdown",
   "metadata": {},
   "source": [
    "Dataframes have a useful [\"describe\" method](https://pandas.pydata.org/pandas-docs/stable/generated/pandas.DataFrame.describe.html), we can see here that the average age of a passenger was about 30. Since the \"Survived\" column is either 0 or 1, we can tell that 38% of passengers survived. Not *all* the counts equal 891. There's a lot of missing data, but Pandas mostly copes."
   ]
  },
  {
   "cell_type": "code",
   "execution_count": null,
   "metadata": {
    "collapsed": false
   },
   "outputs": [],
   "source": [
    "titanic.describe()"
   ]
  },
  {
   "cell_type": "markdown",
   "metadata": {},
   "source": [
    "### Part 1: Selecting and Slicing\n",
    "You can select columns from a dataframe a bit like a dictionary, and slice the rows a bit like a list. Here are the first 5 names:"
   ]
  },
  {
   "cell_type": "code",
   "execution_count": null,
   "metadata": {
    "collapsed": false
   },
   "outputs": [],
   "source": [
    "titanic['Name'][0:5]"
   ]
  },
  {
   "cell_type": "markdown",
   "metadata": {},
   "source": [
    "To select multiple columns, you use a list:"
   ]
  },
  {
   "cell_type": "code",
   "execution_count": null,
   "metadata": {
    "collapsed": false
   },
   "outputs": [],
   "source": [
    "titanic[['Name','Pclass']][0:5]"
   ]
  },
  {
   "cell_type": "markdown",
   "metadata": {},
   "source": [
    "Now it's your turn. Complete the function \"ageFare\" that returns a dataframe with the first *n* ages and fares of the dataframe *df*. The cell will test the function to see  if you've got it right."
   ]
  },
  {
   "cell_type": "code",
   "execution_count": null,
   "metadata": {
    "collapsed": false
   },
   "outputs": [],
   "source": [
    "class TestAgeFare(TestCase):\n",
    "    \"\"\"Don't worry too much about how these tests work. In this case:\n",
    "    Your function should return a Pandas dataframe.\n",
    "    It should *only* have the colmuns \"Age\" and \"Fare\".\n",
    "    The ages and fares should have the correct values. \n",
    "    \"\"\"\n",
    "    \n",
    "    def setUp(self):\n",
    "        try:\n",
    "            self.result = ageFare(titanic,15)\n",
    "        except:\n",
    "            self.result = None\n",
    "        try:\n",
    "            self.result_cols = list(self.result.columns)\n",
    "        except:\n",
    "            self.result_cols = []\n",
    "        try:\n",
    "            self.result_sum = self.result.sum()\n",
    "        except:\n",
    "            self.result_sum = dict()\n",
    "            \n",
    "    def test_dataframe_returned(self):\n",
    "        self.assertEqual(str(self.result.__class__),\"<class 'pandas.core.frame.DataFrame'>\")\n",
    "        \n",
    "    def test_correct_columns(self):\n",
    "         self.assertEqual(list(self.result_cols),['Age', 'Fare'])\n",
    "            \n",
    "    def test_correct_ages(self):\n",
    "        self.assertEqual(int(self.result_sum.get('Age',0)),388)\n",
    "        \n",
    "    def test_correct_fares(self):\n",
    "        self.assertEqual(int(self.result_sum.get('Fare',0)),360)\n",
    "        \n",
    "def ageFare(df,n):\n",
    "    # Your code goes here: (This is a one-liner!)\n",
    "    pass\n",
    "\n",
    "runTest(TestAgeFare)"
   ]
  },
  {
   "cell_type": "markdown",
   "metadata": {},
   "source": [
    "### Part 2: Sorting\n",
    "Use the [\"DataFrame.sort_values\"](https://pandas.pydata.org/pandas-docs/stable/generated/pandas.DataFrame.sort_values.html) method to complete the \"getTopFares\" function, which should return the *n* highest fares from the DataFrame *df*."
   ]
  },
  {
   "cell_type": "code",
   "execution_count": null,
   "metadata": {
    "collapsed": false
   },
   "outputs": [],
   "source": [
    "class TestGetTopFares(TestCase):\n",
    "    \"\"\"Don't worry too much about how these tests work...\n",
    "    (...unless you want to.)\n",
    "    \"\"\"\n",
    "    \n",
    "    def testTopSixFares(self):\n",
    "        total = int(sum(getTopFares(titanic,6)['Fare']))\n",
    "        self.assertEqual(total,2325)\n",
    "\n",
    "def getTopFares(df,n):\n",
    "    # Your code, a one-liner, here:\n",
    "    pass\n",
    "\n",
    "runTest(TestGetTopFares)"
   ]
  },
  {
   "cell_type": "markdown",
   "metadata": {},
   "source": [
    "It's also quite easy to filter cells according to criteria, we're interested in who survived:"
   ]
  },
  {
   "cell_type": "code",
   "execution_count": null,
   "metadata": {
    "collapsed": false
   },
   "outputs": [],
   "source": [
    "survived = titanic['Survived'] == 1"
   ]
  },
  {
   "cell_type": "markdown",
   "metadata": {},
   "source": [
    "Survived is just a list of boolean (true or false) values:"
   ]
  },
  {
   "cell_type": "code",
   "execution_count": null,
   "metadata": {
    "collapsed": false
   },
   "outputs": [],
   "source": [
    "survived[0:5]"
   ]
  },
  {
   "cell_type": "markdown",
   "metadata": {},
   "source": [
    "We can now use this list (or *series*) to reference our original dataframe, and only show survivors:"
   ]
  },
  {
   "cell_type": "code",
   "execution_count": null,
   "metadata": {
    "collapsed": false
   },
   "outputs": [],
   "source": [
    "titanic[survived]"
   ]
  },
  {
   "cell_type": "markdown",
   "metadata": {},
   "source": [
    "We can filter on other conditions. Here are the younger than average passengers, done in a single step:"
   ]
  },
  {
   "cell_type": "code",
   "execution_count": null,
   "metadata": {
    "collapsed": false
   },
   "outputs": [],
   "source": [
    "titanic[titanic['Age'] < 30][0:15]"
   ]
  },
  {
   "cell_type": "markdown",
   "metadata": {},
   "source": [
    "Use the \"~\" operator to invert the selecion, and return the older passengers:"
   ]
  },
  {
   "cell_type": "code",
   "execution_count": null,
   "metadata": {
    "collapsed": false
   },
   "outputs": [],
   "source": [
    "titanic[~(titanic['Age'] < 30)][0:15]"
   ]
  },
  {
   "cell_type": "markdown",
   "metadata": {},
   "source": [
    "### Part 3: Bad Data\n",
    "What's this? Some of the ages of the older passengers are \"NaN\", or \"not a number\"! How come \"NaN\" is greater than 30? Read the documentation for the [\"dropna\" method](https://pandas.pydata.org/pandas-docs/stable/generated/pandas.DataFrame.dropna.html) of dataframe objects. Complete the function \"onlyDefinedAges\" that returns the dataframe *df* with all the rows with NaN ages removed. Everything else should be kept."
   ]
  },
  {
   "cell_type": "code",
   "execution_count": null,
   "metadata": {
    "collapsed": false
   },
   "outputs": [],
   "source": [
    "class TestOnlyDefinedAges(TestCase):\n",
    "    \"\"\"Don't worry too much about how these tests work...\n",
    "    (...unless you want to.)\n",
    "    \"\"\"\n",
    "    \n",
    "    def test_all_columns_present(self):\n",
    "        self.assertEqual(list(titanic.columns),list(onlyDefinedAges(titanic).columns))\n",
    "    \n",
    "    def test_passenter_ids(self):\n",
    "        subset = titanic[0:40]\n",
    "        ids = list(subset[pd.notnull(subset['Age'])]['PassengerId'])\n",
    "        self.assertEqual(ids,list(onlyDefinedAges(subset)['PassengerId']))\n",
    "    \n",
    "\n",
    "def onlyDefinedAges(df):\n",
    "    #Your code here. This should be a one-liner!\n",
    "    pass\n",
    "    \n",
    "runTest(TestOnlyDefinedAges)                        "
   ]
  },
  {
   "cell_type": "markdown",
   "metadata": {},
   "source": [
    "Now there shouldn't be any NaN values in the age column:"
   ]
  },
  {
   "cell_type": "code",
   "execution_count": null,
   "metadata": {
    "collapsed": false
   },
   "outputs": [],
   "source": [
    "onlyDefinedAges(titanic[titanic['Age'] >= 30])[0:15]"
   ]
  },
  {
   "cell_type": "markdown",
   "metadata": {},
   "source": [
    "### Part 4: Filtering\n",
    "The \"SibSp\" and \"Parch\" columns refer to the numbers of siblings or spouses and parents or children traveling with each passenger. We can use the \"&\" operator to see how many passengers travelled alone."
   ]
  },
  {
   "cell_type": "code",
   "execution_count": null,
   "metadata": {
    "collapsed": false
   },
   "outputs": [],
   "source": [
    "alone = titanic[(titanic['SibSp'] == 0) & (titanic['Parch'] == 0)]\n",
    "alone.count()"
   ]
  },
  {
   "cell_type": "markdown",
   "metadata": {},
   "source": [
    "Your turn again. Complete the function \"sexAndSurvival\" which takes a dataframe *df*, and returns a filtered version, according to the  boolean parameters *female* and *survivor*, both of which default to \"True\"."
   ]
  },
  {
   "cell_type": "code",
   "execution_count": null,
   "metadata": {
    "collapsed": false
   },
   "outputs": [],
   "source": [
    "class TestSexSurvival(TestCase):\n",
    "    \"\"\"Don't worry too much about how these tests work...\n",
    "    (...unless you want to.)\n",
    "    \"\"\"\n",
    "            \n",
    "    def test_dead_and_male(self):\n",
    "        dead_and_male = sexAndSurvival(titanic,False,False)\n",
    "        self.assertTrue(all(list(dead_and_male['Sex'] == 'male')))\n",
    "        self.assertTrue(all(list(dead_and_male['Survived'] == 0)))\n",
    "        \n",
    "    def test_dead_and_female(self):\n",
    "        dead_and_female = sexAndSurvival(titanic,True,False)\n",
    "        self.assertTrue(all(list(dead_and_female['Sex'] == 'female')))\n",
    "        self.assertTrue(all(list(dead_and_female['Survived'] == 0)))\n",
    "        \n",
    "    def test_alive_and_male(self):\n",
    "        alive_and_male = sexAndSurvival(titanic,False,True)\n",
    "        self.assertTrue(all(list(alive_and_male['Sex'] == 'male')))\n",
    "        self.assertTrue(all(list(alive_and_male['Survived'] == 1)))\n",
    "        \n",
    "    def test_alive_and_female(self):\n",
    "        alive_and_female = sexAndSurvival(titanic,True,True)\n",
    "        self.assertTrue(all(list(alive_and_female['Sex'] == 'female')))\n",
    "        self.assertTrue(all(list(alive_and_female['Survived'] == 1)))\n",
    "        \n",
    "def sexAndSurvival(df,female=True,survivor=True):\n",
    "    # Your code here. Maybe half-a-dozen lines?\n",
    "    pass\n",
    "    \n",
    "runTest(TestSexSurvival)"
   ]
  },
  {
   "cell_type": "markdown",
   "metadata": {},
   "source": [
    "If your function works, you can see that being male really didn't help:"
   ]
  },
  {
   "cell_type": "code",
   "execution_count": null,
   "metadata": {
    "collapsed": false
   },
   "outputs": [],
   "source": [
    "total_female = titanic[titanic['Sex'] == 'female'].count()['PassengerId']\n",
    "total_male = titanic[titanic['Sex'] == 'male'].count()['PassengerId']\n",
    "female_survivors = sexAndSurvival(titanic,female=True, survivor=True).count()['Survived']\n",
    "male_survivors = sexAndSurvival(titanic,female=False, survivor=True).count()['Survived']\n",
    "print(100 * female_survivors / total_female, 'percent of female passengers survived')\n",
    "print(100 * male_survivors / total_male, 'percent of male passengers survived')"
   ]
  },
  {
   "cell_type": "markdown",
   "metadata": {},
   "source": [
    "### Part 5: Grouping and Aggregating\n",
    "Now we shall explore the very powerfull [\"groupby\"](https://pandas.pydata.org/pandas-docs/stable/generated/pandas.DataFrame.groupby.html) and [\"aggregate\"](https://pandas.pydata.org/pandas-docs/stable/generated/pandas.DataFrame.aggregate.html) functions. Here, the dataframe is partioned according to the passenger class. To get a dataframe back, we need the aggregate function. The set of rows for each partition is passed to a function. You can even use a dictionary to specify a different function for each column. We'll count the passenger IDs, to get the number of passengers in each class, then sum the Survived column to get the number of survivors in each class."
   ]
  },
  {
   "cell_type": "code",
   "execution_count": null,
   "metadata": {
    "collapsed": false
   },
   "outputs": [],
   "source": [
    "survivors_by_class = titanic.groupby('Pclass').aggregate({'PassengerId':'count', 'Survived':'sum'})"
   ]
  },
  {
   "cell_type": "code",
   "execution_count": null,
   "metadata": {
    "collapsed": false
   },
   "outputs": [],
   "source": [
    "survivors_by_class"
   ]
  },
  {
   "cell_type": "markdown",
   "metadata": {},
   "source": [
    "Now for some more \"magic\". We can add a column to a dataframe just like adding a value to a dictionary. We can also do operations on entire columns, so if we divide the sum of the survivors by the number of passengers, we get the chance of survival for each class:"
   ]
  },
  {
   "cell_type": "code",
   "execution_count": null,
   "metadata": {
    "collapsed": false
   },
   "outputs": [],
   "source": [
    "survivors_by_class['Survival %'] = 100 * survivors_by_class['Survived'] / survivors_by_class['PassengerId']\n",
    "survivors_by_class"
   ]
  },
  {
   "cell_type": "markdown",
   "metadata": {},
   "source": [
    "Does being first class help even if you're female? Does being first class mitigate being male?"
   ]
  },
  {
   "cell_type": "code",
   "execution_count": null,
   "metadata": {
    "collapsed": false
   },
   "outputs": [],
   "source": [
    "fem_survivors_by_class = titanic[titanic['Sex'] == 'female'].groupby('Pclass').aggregate(\n",
    "    {'PassengerId':'count', 'Survived':'sum'})\n",
    "fem_survivors_by_class['Survival %'] = (100 * fem_survivors_by_class['Survived'] \n",
    "    / fem_survivors_by_class['PassengerId'])\n",
    "fem_survivors_by_class"
   ]
  },
  {
   "cell_type": "code",
   "execution_count": null,
   "metadata": {
    "collapsed": false
   },
   "outputs": [],
   "source": [
    "male_survivors_by_class = titanic[titanic['Sex'] == 'male'].groupby('Pclass').aggregate(\n",
    "    {'PassengerId':'count', 'Survived':'sum'})\n",
    "male_survivors_by_class['Survival %'] = (100 * male_survivors_by_class['Survived'] \n",
    "    / fem_survivors_by_class['PassengerId'])\n",
    "male_survivors_by_class"
   ]
  },
  {
   "cell_type": "markdown",
   "metadata": {},
   "source": [
    "Now we shall experiment with grouping the data into what are in fact, technically called *bins*. We'll make a copy of our dataframe in case we mess it up. If you mess it up anyway, just re-run the cell that created the \"titanic\" dataframe at the top of the notebooks."
   ]
  },
  {
   "cell_type": "code",
   "execution_count": null,
   "metadata": {
    "collapsed": false
   },
   "outputs": [],
   "source": [
    "titanic_fare_bins = titanic.copy()"
   ]
  },
  {
   "cell_type": "markdown",
   "metadata": {},
   "source": [
    "You are provided with the \"bins_and_labels\" function. We'll choose bins for the fare prices £50 wide, with edges from £0-£300. (Or, were the fares in Dollars?)"
   ]
  },
  {
   "cell_type": "code",
   "execution_count": null,
   "metadata": {
    "collapsed": true
   },
   "outputs": [],
   "source": [
    "def bins_and_labels(maximum,step):\n",
    "    \"\"\"Return bins edges of width <step>, from 0-<maximum>, and also labels for the bins.\n",
    "    \"\"\"\n",
    "    bins = list(range(0,maximum+step,step))\n",
    "    return bins, ['-'.join([str(a), str(b)]) for a,b in zip(bins,bins[1:])]"
   ]
  },
  {
   "cell_type": "code",
   "execution_count": null,
   "metadata": {
    "collapsed": false
   },
   "outputs": [],
   "source": [
    "fare_bins, fare_labels = bins_and_labels(300,50)\n",
    "print(\"fare bins\",fare_bins)\n",
    "print(\"fare labels\",fare_labels)"
   ]
  },
  {
   "cell_type": "markdown",
   "metadata": {},
   "source": [
    "Now we shall employ the [Pandas.cut](https://pandas.pydata.org/pandas-docs/stable/generated/pandas.cut.html) function. *fare_ranges* is a series of bins for the \"Fare\" column, each row has the bin label for each fare. We'll add it to our dataframe as the \"Fare Range\" column."
   ]
  },
  {
   "cell_type": "code",
   "execution_count": null,
   "metadata": {
    "collapsed": false
   },
   "outputs": [],
   "source": [
    "fare_ranges = pd.cut(titanic_fare_bins['Fare'],bins=fare_bins, labels=fare_labels)\n",
    "titanic_fare_bins['Fare Range'] = fare_ranges\n",
    "titanic_fare_bins[0:5]"
   ]
  },
  {
   "cell_type": "markdown",
   "metadata": {},
   "source": [
    "The \"groupby\" and \"aggregate\" trick shows that you *really* didn't want a ticket cheaper than $50:"
   ]
  },
  {
   "cell_type": "code",
   "execution_count": null,
   "metadata": {
    "collapsed": false
   },
   "outputs": [],
   "source": [
    "titanic_fare_bins.groupby('Fare Range').aggregate({'PassengerId':'count', 'Survived':'sum'})"
   ]
  },
  {
   "cell_type": "markdown",
   "metadata": {},
   "source": [
    "Your turn again. Write a function that adds a column called \"Age Range\" to the dataframe, using 10-year bins from 0-80. You should get rid of NaN ages first, use your existing function if you like. All this should happen in the \" addAgeRange\" function."
   ]
  },
  {
   "cell_type": "code",
   "execution_count": null,
   "metadata": {
    "collapsed": false
   },
   "outputs": [],
   "source": [
    "class TestAddAgeRange(TestCase):\n",
    "    \"\"\"Don't worry too much about how these tests work.\n",
    "    Tests are usually a good idea, though.\n",
    "    \"\"\"\n",
    "    \n",
    "    def setUp(self):\n",
    "        try:\n",
    "            self.data = addAgeRange(titanic)\n",
    "        except:\n",
    "            self.data = titanic.copy()\n",
    "            \n",
    "    def test_columns(self):\n",
    "        cols = ['PassengerId','Survived','Pclass','Name','Sex','Age','SibSp','Parch','Ticket','Fare','Cabin',\n",
    "            'Embarked','Age Range']\n",
    "        self.assertEqual(cols, list(self.data.columns))\n",
    "        \n",
    "    def test_30_40_fares(self):\n",
    "        self.assertEqual(int(sum(self.data[self.data['Age Range'] == '30-40']['Fare'])),6586)\n",
    "        \n",
    "    def test_40_50_survival(self):\n",
    "        self.assertEqual(sum(self.data[self.data['Age Range'] == '40-50']['Survived']),33)\n",
    "        \n",
    "    def test_50_60_count(self):\n",
    "        self.assertEqual(len(self.data[self.data['Age Range'] == '50-60']),42)\n",
    "        \n",
    "def addAgeRange(df):\n",
    "    new_df = df.copy()\n",
    "    # Your code starts here: (About half-a-dozen-lines.)\n",
    "    return new_df\n",
    "\n",
    "runTest(TestAddAgeRange)"
   ]
  },
  {
   "cell_type": "markdown",
   "metadata": {},
   "source": [
    "Pandas can automatically bin and and plot data for us with the [dataframe.hist](https://pandas.pydata.org/pandas-docs/stable/generated/pandas.DataFrame.hist.html) method. The age distributions of the survivors (or otherwise) don't tell us much, though. We need the age distribution of the fraction of survivors, so let's use our last function to do that:"
   ]
  },
  {
   "cell_type": "code",
   "execution_count": null,
   "metadata": {
    "collapsed": false
   },
   "outputs": [],
   "source": [
    "%matplotlib inline\n",
    "titanic[titanic['Survived'] == 1]['Age'].hist()"
   ]
  },
  {
   "cell_type": "code",
   "execution_count": null,
   "metadata": {
    "collapsed": false
   },
   "outputs": [],
   "source": [
    "%matplotlib inline\n",
    "titanic[titanic['Survived'] == 0]['Age'].hist()"
   ]
  },
  {
   "cell_type": "code",
   "execution_count": null,
   "metadata": {
    "collapsed": false
   },
   "outputs": [],
   "source": [
    "age_bin_df = addAgeRange(titanic)\n",
    "survivors_by_age = age_bin_df.groupby('Age Range').aggregate({'PassengerId':'count', 'Survived':'sum'})\n",
    "survivors_by_age['Survival %'] = 100 * survivors_by_age['Survived'] / survivors_by_age['PassengerId']\n",
    "survivors_by_age"
   ]
  },
  {
   "cell_type": "markdown",
   "metadata": {},
   "source": [
    "Women and children first, it would seem. The very young do quite well, passengers from 10-60 have around a 40% chance, then there's a big drop-off."
   ]
  },
  {
   "cell_type": "markdown",
   "metadata": {},
   "source": [
    "### Part 6: String Operations\n",
    "This last bit's a little tougher. We'll introduce the [split method](https://docs.python.org/3/library/stdtypes.html#str.split) of a string:"
   ]
  },
  {
   "cell_type": "code",
   "execution_count": null,
   "metadata": {
    "collapsed": false,
    "scrolled": true
   },
   "outputs": [],
   "source": [
    "pangram = \"The quick brown fox jumps over the lazy dog\"\n",
    "pangram.split()"
   ]
  },
  {
   "cell_type": "markdown",
   "metadata": {},
   "source": [
    "We don't have to split on spaces, if we pass in another string, (like a comma) we can split on that instead."
   ]
  },
  {
   "cell_type": "code",
   "execution_count": null,
   "metadata": {
    "collapsed": false
   },
   "outputs": [],
   "source": [
    "lily_may_peel = \"Futrelle, Mrs. Jacques Heath (Lily May Peel) \"\n",
    "lily_may_peel.split(',')"
   ]
  },
  {
   "cell_type": "markdown",
   "metadata": {},
   "source": [
    "Now we introduce the concept of [map](https://docs.python.org/3/library/functions.html#map). Map applies a given function to each element of a series or *iterable*, which could be a list. So the \"get_uppercase\" function is applied to all the words in our pangram, we turn the results into a list so we can print them. It's a bit clumsy to have a seperate function just to call the \"upper\" method of our strings. We can use a [lambda expression](https://docs.python.org/3/tutorial/controlflow.html#lambda-expressions). It's a nameless or *anonymous* function we can pass straight in. The effect is the same, don't use them if you don't want to."
   ]
  },
  {
   "cell_type": "code",
   "execution_count": null,
   "metadata": {
    "collapsed": false
   },
   "outputs": [],
   "source": [
    "def get_uppercase(s):\n",
    "    return s.upper()\n",
    "\n",
    "print(list(map(get_uppercase, pangram.split())))\n",
    "print(list(map(lambda x: x.upper(), pangram.split())))"
   ]
  },
  {
   "cell_type": "markdown",
   "metadata": {},
   "source": [
    "Now let's put that all togther into something useful. The \"Name\" column of the dataframe is a list of comma-separated terms, usually starting with a surname. (No, not everyone's name works like that.) We shall add a \"Surname\" column to our dataframe. Here's how:\n",
    "\n",
    "1. Use the [\"Pandas.str.split\"](https://pandas.pydata.org/pandas-docs/stable/generated/pandas.Series.str.split.html) function to split the \"Name\" column on commas.\n",
    "2. Use the [\"Pandas.Series.map\"](https://pandas.pydata.org/pandas-docs/stable/generated/pandas.Series.map.html) function to get the first item from each list of comma-separated strings. You can complete the \"firstItem\" function to do this, or you can use a lambda expression instead.\n",
    "3. Add this series as a new column called \"Surname\" to a copy of our dataframe."
   ]
  },
  {
   "cell_type": "code",
   "execution_count": null,
   "metadata": {
    "collapsed": false
   },
   "outputs": [],
   "source": [
    "\n",
    "class TestAddSurnames(TestCase):\n",
    "    \n",
    "    def setUp(self):\n",
    "        try:\n",
    "            self.data = addSurnames(titanic)\n",
    "        except:\n",
    "            self.data = titanic.copy()\n",
    "    \n",
    "    def testColumns(self):\n",
    "        true_cols = ['PassengerId','Survived','Pclass','Name','Sex','Age','SibSp','Parch','Ticket',\n",
    "            'Fare','Cabin','Embarked','Surname']\n",
    "        self.assertEqual(true_cols,list(self.data.columns))\n",
    "        \n",
    "    def testQuasiRandomNames(self):\n",
    "        names = self.data.groupby('Surname').aggregate('count').sort_values('PassengerId',\n",
    "            ascending=False).reset_index()\n",
    "        true_names = list(map(lambda i: names.iloc[i][0],[5,22,9,16,56,48,103]))\n",
    "        self.assertEqual(true_names, ['Johnson', 'Bourke', 'Fortune', 'Brown', 'Coleff', 'Richards', 'Beckwith'])\n",
    "\n",
    "def addSurnames(df):\n",
    "    new_df = df.copy()\n",
    "    # Your code here: (You can do this by adding three lines.)\n",
    "    return new_df\n",
    " \n",
    "runTest(TestAddSurnames)"
   ]
  },
  {
   "cell_type": "markdown",
   "metadata": {},
   "source": [
    "One last bit of messing around with groupby, aggregation and sorting to return the most common surnames on the Titanic. What does [\"reset_index\"](https://pandas.pydata.org/pandas-docs/stable/generated/pandas.DataFrame.reset_index.html) do?"
   ]
  },
  {
   "cell_type": "code",
   "execution_count": null,
   "metadata": {
    "collapsed": false
   },
   "outputs": [],
   "source": [
    "top_names = addSurnames(titanic).groupby('Surname').aggregate('count').sort_values('PassengerId',\n",
    "    ascending=False).reset_index()[['Surname','PassengerId']]\n",
    "top_names"
   ]
  },
  {
   "cell_type": "markdown",
   "metadata": {},
   "source": [
    "Run the last two cells to check everything works."
   ]
  },
  {
   "cell_type": "code",
   "execution_count": null,
   "metadata": {
    "collapsed": false
   },
   "outputs": [],
   "source": [
    "def testAll():\n",
    "    all_the_tests = [TestAgeFare, TestGetTopFares, TestOnlyDefinedAges, TestSexSurvival, TestAddAgeRange,\n",
    "        TestAddSurnames]\n",
    "    total_tests = 0\n",
    "    total_passes = 0\n",
    "    runner = TextTestRunner(verbosity=0)\n",
    "    for test in all_the_tests:\n",
    "        suite = TestLoader().loadTestsFromModule(test())\n",
    "        count = suite.countTestCases()\n",
    "        total_tests += count\n",
    "        result = runner.run(suite)\n",
    "        total_passes += count - len(result.errors) - len(result.failures)\n",
    "        print()\n",
    "    return total_tests, total_passes\n",
    "\n",
    "tests, passes =  testAll()"
   ]
  },
  {
   "cell_type": "code",
   "execution_count": null,
   "metadata": {
    "collapsed": false
   },
   "outputs": [],
   "source": [
    "print('tests run:', tests)\n",
    "print('tests passed:', passes)"
   ]
  }
 ],
 "metadata": {
  "kernelspec": {
   "display_name": "Python 3",
   "language": "python",
   "name": "python3"
  },
  "language_info": {
   "codemirror_mode": {
    "name": "ipython",
    "version": 3
   },
   "file_extension": ".py",
   "mimetype": "text/x-python",
   "name": "python",
   "nbconvert_exporter": "python",
   "pygments_lexer": "ipython3",
   "version": "3.5.2"
  }
 },
 "nbformat": 4,
 "nbformat_minor": 0
}
